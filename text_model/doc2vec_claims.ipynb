{
 "cells": [
  {
   "cell_type": "markdown",
   "metadata": {},
   "source": [
    "Importando bibliotecas"
   ]
  },
  {
   "cell_type": "code",
   "execution_count": 1,
   "metadata": {},
   "outputs": [],
   "source": [
    "from gensim.models.doc2vec import Doc2Vec, TaggedDocument \n",
    "\n",
    "import pandas as pd\n",
    "import numpy as np\n",
    "import collections\n",
    "import logging\n",
    "import random"
   ]
  },
  {
   "cell_type": "markdown",
   "metadata": {},
   "source": [
    "Configurando nível de logs"
   ]
  },
  {
   "cell_type": "code",
   "execution_count": 2,
   "metadata": {},
   "outputs": [],
   "source": [
    "logging.basicConfig(format='%(asctime)s : %(levelname)s : %(message)s', level=logging.INFO)"
   ]
  },
  {
   "cell_type": "markdown",
   "metadata": {},
   "source": [
    "Lendo arquivos de texto"
   ]
  },
  {
   "cell_type": "code",
   "execution_count": 4,
   "metadata": {},
   "outputs": [],
   "source": [
    "rfzd_claims = pd.read_parquet('../dataset/refined/rfzd_telecom_pandemic_claims.parquet.snappy')"
   ]
  },
  {
   "cell_type": "markdown",
   "metadata": {},
   "source": [
    "Dividindo entre conjunto de treino e teste"
   ]
  },
  {
   "cell_type": "code",
   "execution_count": 5,
   "metadata": {},
   "outputs": [],
   "source": [
    "train_set = rfzd_claims.sample(frac=0.8, random_state=51)\n",
    "test_set = rfzd_claims.drop(train_set.index)\n",
    "\n",
    "train_set.reset_index(inplace=True, drop=True)\n",
    "test_set.reset_index(inplace=True, drop=True)"
   ]
  },
  {
   "cell_type": "code",
   "execution_count": 14,
   "metadata": {},
   "outputs": [
    {
     "data": {
      "text/html": [
       "<div>\n",
       "<style scoped>\n",
       "    .dataframe tbody tr th:only-of-type {\n",
       "        vertical-align: middle;\n",
       "    }\n",
       "\n",
       "    .dataframe tbody tr th {\n",
       "        vertical-align: top;\n",
       "    }\n",
       "\n",
       "    .dataframe thead th {\n",
       "        text-align: right;\n",
       "    }\n",
       "</style>\n",
       "<table border=\"1\" class=\"dataframe\">\n",
       "  <thead>\n",
       "    <tr style=\"text-align: right;\">\n",
       "      <th></th>\n",
       "      <th>tokens_customer_claim</th>\n",
       "      <th>id</th>\n",
       "    </tr>\n",
       "  </thead>\n",
       "  <tbody>\n",
       "    <tr>\n",
       "      <th>0</th>\n",
       "      <td>[ha, meses, vinha, sendo, cobrado, por, um, pr...</td>\n",
       "      <td>bc0916bc66ab0637ae1a2cd905c552d222062d1f</td>\n",
       "    </tr>\n",
       "    <tr>\n",
       "      <th>1</th>\n",
       "      <td>[boa, noite, estou, com, dificuldades, em, man...</td>\n",
       "      <td>877ec71696b8b7c6c1691e1a71f3b252fca69def</td>\n",
       "    </tr>\n",
       "    <tr>\n",
       "      <th>2</th>\n",
       "      <td>[possuo, telefone, fixo, contratado, com, oi, ...</td>\n",
       "      <td>e4ccb9548d28f890db220def3d285ba27ee778bc</td>\n",
       "    </tr>\n",
       "    <tr>\n",
       "      <th>3</th>\n",
       "      <td>[tenho, alguns, planos, que, quero, fazer, alt...</td>\n",
       "      <td>e67dde9bc5862af426fd48c0dfab5865b6a76c70</td>\n",
       "    </tr>\n",
       "    <tr>\n",
       "      <th>4</th>\n",
       "      <td>[no, mes, deste, ano, entrei, em, contato, com...</td>\n",
       "      <td>a5b4e5f60aa7cc7201a1154ba87d9916df260657</td>\n",
       "    </tr>\n",
       "    <tr>\n",
       "      <th>...</th>\n",
       "      <td>...</td>\n",
       "      <td>...</td>\n",
       "    </tr>\n",
       "    <tr>\n",
       "      <th>22630</th>\n",
       "      <td>[apos, diversos, problemas, com, linha, refere...</td>\n",
       "      <td>c46b013b909442753f97be6a3dd0fb4a04e3c941</td>\n",
       "    </tr>\n",
       "    <tr>\n",
       "      <th>22631</th>\n",
       "      <td>[eu, fui, ate, na, claro, pra, fazer, portabil...</td>\n",
       "      <td>21514f671d0c8ec1b7b69cfd95a08b0f4dbb17d5</td>\n",
       "    </tr>\n",
       "    <tr>\n",
       "      <th>22632</th>\n",
       "      <td>[em, depois, de, alguns, problemas, tecnicos, ...</td>\n",
       "      <td>69e5d8f39e118af86eaa4109967ac591e50c7136</td>\n",
       "    </tr>\n",
       "    <tr>\n",
       "      <th>22633</th>\n",
       "      <td>[tim, nao, me, resaciu, valor, que, paguei, me...</td>\n",
       "      <td>cbfcb74c4bf0a873006a300b890786d018ef3d70</td>\n",
       "    </tr>\n",
       "    <tr>\n",
       "      <th>22634</th>\n",
       "      <td>[boa, tarde, faz, semanas, aproximadamente, qu...</td>\n",
       "      <td>0177a2bc276ea46ba1c273551f4af0061665a9c7</td>\n",
       "    </tr>\n",
       "  </tbody>\n",
       "</table>\n",
       "<p>22635 rows × 2 columns</p>\n",
       "</div>"
      ],
      "text/plain": [
       "                                   tokens_customer_claim  \\\n",
       "0      [ha, meses, vinha, sendo, cobrado, por, um, pr...   \n",
       "1      [boa, noite, estou, com, dificuldades, em, man...   \n",
       "2      [possuo, telefone, fixo, contratado, com, oi, ...   \n",
       "3      [tenho, alguns, planos, que, quero, fazer, alt...   \n",
       "4      [no, mes, deste, ano, entrei, em, contato, com...   \n",
       "...                                                  ...   \n",
       "22630  [apos, diversos, problemas, com, linha, refere...   \n",
       "22631  [eu, fui, ate, na, claro, pra, fazer, portabil...   \n",
       "22632  [em, depois, de, alguns, problemas, tecnicos, ...   \n",
       "22633  [tim, nao, me, resaciu, valor, que, paguei, me...   \n",
       "22634  [boa, tarde, faz, semanas, aproximadamente, qu...   \n",
       "\n",
       "                                             id  \n",
       "0      bc0916bc66ab0637ae1a2cd905c552d222062d1f  \n",
       "1      877ec71696b8b7c6c1691e1a71f3b252fca69def  \n",
       "2      e4ccb9548d28f890db220def3d285ba27ee778bc  \n",
       "3      e67dde9bc5862af426fd48c0dfab5865b6a76c70  \n",
       "4      a5b4e5f60aa7cc7201a1154ba87d9916df260657  \n",
       "...                                         ...  \n",
       "22630  c46b013b909442753f97be6a3dd0fb4a04e3c941  \n",
       "22631  21514f671d0c8ec1b7b69cfd95a08b0f4dbb17d5  \n",
       "22632  69e5d8f39e118af86eaa4109967ac591e50c7136  \n",
       "22633  cbfcb74c4bf0a873006a300b890786d018ef3d70  \n",
       "22634  0177a2bc276ea46ba1c273551f4af0061665a9c7  \n",
       "\n",
       "[22635 rows x 2 columns]"
      ]
     },
     "execution_count": 14,
     "metadata": {},
     "output_type": "execute_result"
    }
   ],
   "source": [
    "train_set"
   ]
  },
  {
   "cell_type": "markdown",
   "metadata": {},
   "source": [
    "Criando tag para armazenar marcar cada documento."
   ]
  },
  {
   "cell_type": "code",
   "execution_count": 6,
   "metadata": {},
   "outputs": [],
   "source": [
    "train_documents = []\n",
    "\n",
    "for index, data in train_set.iterrows():\n",
    "    train_documents.append(TaggedDocument(data['tokens_customer_claim'], [index]))"
   ]
  },
  {
   "cell_type": "code",
   "execution_count": 7,
   "metadata": {},
   "outputs": [],
   "source": [
    "test_documents = test_set['tokens_customer_claim'].values.tolist()"
   ]
  },
  {
   "cell_type": "markdown",
   "metadata": {},
   "source": [
    "Definindo modelo Doc2vec"
   ]
  },
  {
   "cell_type": "code",
   "execution_count": 8,
   "metadata": {},
   "outputs": [
    {
     "name": "stderr",
     "output_type": "stream",
     "text": [
      "2024-09-19 17:46:28,005 : INFO : using concatenative 4400-dimensional layer1\n",
      "2024-09-19 17:46:28,008 : INFO : Doc2Vec lifecycle event {'params': 'Doc2Vec<dm/c,d400,n20,w5,mc5,s1e-05,t8>', 'datetime': '2024-09-19T17:46:28.008272', 'gensim': '4.3.3', 'python': '3.9.19 (main, May  6 2024, 20:12:36) [MSC v.1916 64 bit (AMD64)]', 'platform': 'Windows-10-10.0.22631-SP0', 'event': 'created'}\n"
     ]
    }
   ],
   "source": [
    "model = Doc2Vec(\n",
    "    vector_size=400, # tamanho do vetor de embedding\n",
    "    epochs=8, # número de iterações no dataset inteiro para o treinamento\n",
    "    min_count=5, # quantidade mínima de repetições palavras para entrarem no treinamento \n",
    "    sample=10**-5, # frequência teórica para ponderar palavras muito frequêntes\n",
    "    hs=0, # utilizando amostragem negativa para acelarar o treinamento\n",
    "    negative=20, # determina que 20 palavras aleatórias serão utilizadas para treinar a palavra predita\n",
    "    dm=1, # usando modelo PV-DM\n",
    "    dm_concat=1, # concatenando vetor de parágrafo com de palavras\n",
    "    dbow_words=1, # treinando também vetor de palavras word2vec\n",
    "    shrink_windows=True, # define a quantidade de palavras dinamicamente durante o treinamento\n",
    "    workers=8, # numero de cores utilizados no paralelismo\n",
    "    seed=51, # fixando a aleatoriada para deixar o modelo reprodutível\n",
    ")"
   ]
  },
  {
   "cell_type": "markdown",
   "metadata": {},
   "source": [
    "Criando vocabulário"
   ]
  },
  {
   "cell_type": "code",
   "execution_count": 9,
   "metadata": {},
   "outputs": [
    {
     "name": "stderr",
     "output_type": "stream",
     "text": [
      "2024-09-19 17:46:30,363 : INFO : collecting all words and their counts\n",
      "2024-09-19 17:46:30,367 : INFO : PROGRESS: at example #0, processed 0 words (0 words/s), 0 word types, 0 tags\n",
      "2024-09-19 17:46:30,652 : INFO : PROGRESS: at example #10000, processed 875890 words (3108876 words/s), 17878 word types, 0 tags\n",
      "2024-09-19 17:46:30,811 : INFO : PROGRESS: at example #20000, processed 1749138 words (5528103 words/s), 24460 word types, 0 tags\n",
      "2024-09-19 17:46:30,855 : INFO : collected 25996 word types and 22635 unique tags from a corpus of 22635 examples and 1987425 words\n",
      "2024-09-19 17:46:30,857 : INFO : Creating a fresh vocabulary\n",
      "2024-09-19 17:46:30,900 : INFO : Doc2Vec lifecycle event {'msg': 'effective_min_count=5 retains 8441 unique words (32.47% of original 25996, drops 17555)', 'datetime': '2024-09-19T17:46:30.900347', 'gensim': '4.3.3', 'python': '3.9.19 (main, May  6 2024, 20:12:36) [MSC v.1916 64 bit (AMD64)]', 'platform': 'Windows-10-10.0.22631-SP0', 'event': 'prepare_vocab'}\n",
      "2024-09-19 17:46:30,902 : INFO : Doc2Vec lifecycle event {'msg': 'effective_min_count=5 leaves 1959750 word corpus (98.61% of original 1987425, drops 27675)', 'datetime': '2024-09-19T17:46:30.902348', 'gensim': '4.3.3', 'python': '3.9.19 (main, May  6 2024, 20:12:36) [MSC v.1916 64 bit (AMD64)]', 'platform': 'Windows-10-10.0.22631-SP0', 'event': 'prepare_vocab'}\n",
      "2024-09-19 17:46:30,962 : INFO : deleting the raw counts dictionary of 25996 items\n",
      "2024-09-19 17:46:30,964 : INFO : sample=1e-05 downsamples 2372 most-common words\n",
      "2024-09-19 17:46:30,965 : INFO : Doc2Vec lifecycle event {'msg': 'downsampling leaves estimated 339342.768516017 word corpus (17.3%% of prior 1959750)', 'datetime': '2024-09-19T17:46:30.965356', 'gensim': '4.3.3', 'python': '3.9.19 (main, May  6 2024, 20:12:36) [MSC v.1916 64 bit (AMD64)]', 'platform': 'Windows-10-10.0.22631-SP0', 'event': 'prepare_vocab'}\n",
      "2024-09-19 17:46:31,059 : INFO : estimated required memory for 8441 words and 400 dimensions: 207030700 bytes\n",
      "2024-09-19 17:46:31,061 : INFO : resetting layer weights\n"
     ]
    }
   ],
   "source": [
    "model.build_vocab(train_documents)"
   ]
  },
  {
   "cell_type": "code",
   "execution_count": 10,
   "metadata": {},
   "outputs": [
    {
     "name": "stderr",
     "output_type": "stream",
     "text": [
      "2024-09-19 17:46:39,204 : INFO : Doc2Vec lifecycle event {'msg': 'training model with 8 workers on 8442 vocabulary and 4400 features, using sg=0 hs=0 sample=1e-05 negative=20 window=5 shrink_windows=True', 'datetime': '2024-09-19T17:46:39.204411', 'gensim': '4.3.3', 'python': '3.9.19 (main, May  6 2024, 20:12:36) [MSC v.1916 64 bit (AMD64)]', 'platform': 'Windows-10-10.0.22631-SP0', 'event': 'train'}\n",
      "2024-09-19 17:46:40,275 : INFO : EPOCH 0 - PROGRESS: at 8.27% examples, 28679 words/s, in_qsize 15, out_qsize 0\n",
      "2024-09-19 17:46:41,383 : INFO : EPOCH 0 - PROGRESS: at 20.57% examples, 34005 words/s, in_qsize 15, out_qsize 0\n",
      "2024-09-19 17:46:42,460 : INFO : EPOCH 0 - PROGRESS: at 32.90% examples, 36094 words/s, in_qsize 15, out_qsize 0\n",
      "2024-09-19 17:46:43,625 : INFO : EPOCH 0 - PROGRESS: at 44.08% examples, 35936 words/s, in_qsize 16, out_qsize 0\n",
      "2024-09-19 17:46:44,629 : INFO : EPOCH 0 - PROGRESS: at 55.33% examples, 37014 words/s, in_qsize 16, out_qsize 0\n",
      "2024-09-19 17:46:45,630 : INFO : EPOCH 0 - PROGRESS: at 66.76% examples, 37760 words/s, in_qsize 15, out_qsize 0\n",
      "2024-09-19 17:46:46,636 : INFO : EPOCH 0 - PROGRESS: at 78.61% examples, 38248 words/s, in_qsize 15, out_qsize 0\n",
      "2024-09-19 17:46:47,656 : INFO : EPOCH 0 - PROGRESS: at 90.75% examples, 38768 words/s, in_qsize 16, out_qsize 0\n",
      "2024-09-19 17:46:48,311 : INFO : EPOCH 0: training on 1987425 raw words (362540 effective words) took 9.1s, 39847 effective words/s\n",
      "2024-09-19 17:46:49,320 : INFO : EPOCH 1 - PROGRESS: at 10.42% examples, 37509 words/s, in_qsize 16, out_qsize 0\n",
      "2024-09-19 17:46:50,352 : INFO : EPOCH 1 - PROGRESS: at 23.68% examples, 41587 words/s, in_qsize 16, out_qsize 0\n",
      "2024-09-19 17:46:51,433 : INFO : EPOCH 1 - PROGRESS: at 36.34% examples, 41771 words/s, in_qsize 15, out_qsize 0\n",
      "2024-09-19 17:46:52,599 : INFO : EPOCH 1 - PROGRESS: at 48.48% examples, 40892 words/s, in_qsize 16, out_qsize 1\n",
      "2024-09-19 17:46:53,627 : INFO : EPOCH 1 - PROGRESS: at 61.15% examples, 41866 words/s, in_qsize 15, out_qsize 0\n",
      "2024-09-19 17:46:54,641 : INFO : EPOCH 1 - PROGRESS: at 74.14% examples, 42255 words/s, in_qsize 15, out_qsize 0\n",
      "2024-09-19 17:46:55,650 : INFO : EPOCH 1 - PROGRESS: at 86.16% examples, 42333 words/s, in_qsize 16, out_qsize 1\n",
      "2024-09-19 17:46:56,651 : INFO : EPOCH 1 - PROGRESS: at 98.57% examples, 42798 words/s, in_qsize 3, out_qsize 1\n",
      "2024-09-19 17:46:56,662 : INFO : EPOCH 1: training on 1987425 raw words (362060 effective words) took 8.3s, 43398 effective words/s\n",
      "2024-09-19 17:46:57,695 : INFO : EPOCH 2 - PROGRESS: at 11.44% examples, 40362 words/s, in_qsize 15, out_qsize 0\n",
      "2024-09-19 17:46:58,730 : INFO : EPOCH 2 - PROGRESS: at 24.27% examples, 41987 words/s, in_qsize 16, out_qsize 0\n",
      "2024-09-19 17:46:59,840 : INFO : EPOCH 2 - PROGRESS: at 36.34% examples, 41098 words/s, in_qsize 15, out_qsize 0\n",
      "2024-09-19 17:47:00,844 : INFO : EPOCH 2 - PROGRESS: at 47.99% examples, 41534 words/s, in_qsize 15, out_qsize 0\n",
      "2024-09-19 17:47:01,852 : INFO : EPOCH 2 - PROGRESS: at 59.70% examples, 41889 words/s, in_qsize 15, out_qsize 0\n",
      "2024-09-19 17:47:02,933 : INFO : EPOCH 2 - PROGRESS: at 73.05% examples, 42094 words/s, in_qsize 16, out_qsize 0\n",
      "2024-09-19 17:47:03,990 : INFO : EPOCH 2 - PROGRESS: at 85.72% examples, 42204 words/s, in_qsize 15, out_qsize 0\n",
      "2024-09-19 17:47:05,010 : INFO : EPOCH 2 - PROGRESS: at 98.09% examples, 42561 words/s, in_qsize 4, out_qsize 1\n",
      "2024-09-19 17:47:05,069 : INFO : EPOCH 2: training on 1987425 raw words (362301 effective words) took 8.4s, 43132 effective words/s\n",
      "2024-09-19 17:47:06,105 : INFO : EPOCH 3 - PROGRESS: at 10.42% examples, 36392 words/s, in_qsize 16, out_qsize 0\n",
      "2024-09-19 17:47:07,135 : INFO : EPOCH 3 - PROGRESS: at 23.21% examples, 40050 words/s, in_qsize 16, out_qsize 0\n",
      "2024-09-19 17:47:08,139 : INFO : EPOCH 3 - PROGRESS: at 34.91% examples, 40534 words/s, in_qsize 16, out_qsize 0\n",
      "2024-09-19 17:47:09,159 : INFO : EPOCH 3 - PROGRESS: at 46.54% examples, 40994 words/s, in_qsize 15, out_qsize 0\n",
      "2024-09-19 17:47:10,192 : INFO : EPOCH 3 - PROGRESS: at 57.33% examples, 40566 words/s, in_qsize 15, out_qsize 0\n",
      "2024-09-19 17:47:11,213 : INFO : EPOCH 3 - PROGRESS: at 69.42% examples, 40812 words/s, in_qsize 16, out_qsize 0\n",
      "2024-09-19 17:47:12,231 : INFO : EPOCH 3 - PROGRESS: at 82.11% examples, 41310 words/s, in_qsize 15, out_qsize 0\n",
      "2024-09-19 17:47:13,282 : INFO : EPOCH 3 - PROGRESS: at 94.59% examples, 41553 words/s, in_qsize 12, out_qsize 0\n",
      "2024-09-19 17:47:13,611 : INFO : EPOCH 3: training on 1987425 raw words (361518 effective words) took 8.5s, 42369 effective words/s\n",
      "2024-09-19 17:47:14,673 : INFO : EPOCH 4 - PROGRESS: at 11.92% examples, 40629 words/s, in_qsize 15, out_qsize 0\n",
      "2024-09-19 17:47:15,722 : INFO : EPOCH 4 - PROGRESS: at 24.27% examples, 41126 words/s, in_qsize 15, out_qsize 0\n",
      "2024-09-19 17:47:16,791 : INFO : EPOCH 4 - PROGRESS: at 36.81% examples, 41608 words/s, in_qsize 15, out_qsize 0\n",
      "2024-09-19 17:47:17,803 : INFO : EPOCH 4 - PROGRESS: at 48.96% examples, 42302 words/s, in_qsize 15, out_qsize 0\n",
      "2024-09-19 17:47:18,814 : INFO : EPOCH 4 - PROGRESS: at 61.15% examples, 42778 words/s, in_qsize 15, out_qsize 0\n",
      "2024-09-19 17:47:19,841 : INFO : EPOCH 4 - PROGRESS: at 74.04% examples, 42902 words/s, in_qsize 16, out_qsize 0\n",
      "2024-09-19 17:47:20,846 : INFO : EPOCH 4 - PROGRESS: at 87.74% examples, 43660 words/s, in_qsize 15, out_qsize 0\n",
      "2024-09-19 17:47:21,773 : INFO : EPOCH 4: training on 1987425 raw words (361848 effective words) took 8.2s, 44371 effective words/s\n",
      "2024-09-19 17:47:22,798 : INFO : EPOCH 5 - PROGRESS: at 11.92% examples, 42150 words/s, in_qsize 15, out_qsize 0\n",
      "2024-09-19 17:47:23,976 : INFO : EPOCH 5 - PROGRESS: at 24.81% examples, 40206 words/s, in_qsize 14, out_qsize 1\n",
      "2024-09-19 17:47:24,979 : INFO : EPOCH 5 - PROGRESS: at 38.75% examples, 43475 words/s, in_qsize 15, out_qsize 0\n",
      "2024-09-19 17:47:26,023 : INFO : EPOCH 5 - PROGRESS: at 50.88% examples, 43441 words/s, in_qsize 15, out_qsize 0\n",
      "2024-09-19 17:47:27,042 : INFO : EPOCH 5 - PROGRESS: at 63.13% examples, 43571 words/s, in_qsize 15, out_qsize 0\n",
      "2024-09-19 17:47:28,147 : INFO : EPOCH 5 - PROGRESS: at 76.98% examples, 43643 words/s, in_qsize 16, out_qsize 0\n",
      "2024-09-19 17:47:29,152 : INFO : EPOCH 5 - PROGRESS: at 89.20% examples, 43584 words/s, in_qsize 16, out_qsize 0\n",
      "2024-09-19 17:47:29,870 : INFO : EPOCH 5: training on 1987425 raw words (361900 effective words) took 8.1s, 44735 effective words/s\n",
      "2024-09-19 17:47:31,130 : INFO : EPOCH 6 - PROGRESS: at 12.45% examples, 35608 words/s, in_qsize 15, out_qsize 0\n",
      "2024-09-19 17:47:32,137 : INFO : EPOCH 6 - PROGRESS: at 26.35% examples, 41545 words/s, in_qsize 15, out_qsize 0\n",
      "2024-09-19 17:47:33,140 : INFO : EPOCH 6 - PROGRESS: at 39.63% examples, 43710 words/s, in_qsize 16, out_qsize 0\n",
      "2024-09-19 17:47:34,192 : INFO : EPOCH 6 - PROGRESS: at 51.83% examples, 43573 words/s, in_qsize 15, out_qsize 0\n",
      "2024-09-19 17:47:35,285 : INFO : EPOCH 6 - PROGRESS: at 64.14% examples, 43157 words/s, in_qsize 14, out_qsize 1\n",
      "2024-09-19 17:47:36,337 : INFO : EPOCH 6 - PROGRESS: at 78.51% examples, 43933 words/s, in_qsize 15, out_qsize 0\n",
      "2024-09-19 17:47:37,340 : INFO : EPOCH 6 - PROGRESS: at 91.18% examples, 44072 words/s, in_qsize 14, out_qsize 1\n",
      "2024-09-19 17:47:37,962 : INFO : EPOCH 6: training on 1987425 raw words (362060 effective words) took 8.1s, 44790 effective words/s\n",
      "2024-09-19 17:47:39,213 : INFO : EPOCH 7 - PROGRESS: at 12.48% examples, 36023 words/s, in_qsize 15, out_qsize 0\n",
      "2024-09-19 17:47:40,214 : INFO : EPOCH 7 - PROGRESS: at 26.83% examples, 42403 words/s, in_qsize 15, out_qsize 0\n",
      "2024-09-19 17:47:41,260 : INFO : EPOCH 7 - PROGRESS: at 40.12% examples, 43637 words/s, in_qsize 15, out_qsize 0\n",
      "2024-09-19 17:47:42,408 : INFO : EPOCH 7 - PROGRESS: at 52.32% examples, 42548 words/s, in_qsize 16, out_qsize 0\n",
      "2024-09-19 17:47:43,416 : INFO : EPOCH 7 - PROGRESS: at 66.24% examples, 43972 words/s, in_qsize 16, out_qsize 0\n",
      "2024-09-19 17:47:44,455 : INFO : EPOCH 7 - PROGRESS: at 78.98% examples, 43885 words/s, in_qsize 15, out_qsize 0\n",
      "2024-09-19 17:47:45,484 : INFO : EPOCH 7 - PROGRESS: at 91.18% examples, 43658 words/s, in_qsize 16, out_qsize 1\n",
      "2024-09-19 17:47:46,103 : INFO : EPOCH 7: training on 1987425 raw words (361374 effective words) took 8.1s, 44431 effective words/s\n",
      "2024-09-19 17:47:47,114 : INFO : EPOCH 8 - PROGRESS: at 11.45% examples, 40954 words/s, in_qsize 14, out_qsize 1\n",
      "2024-09-19 17:47:48,236 : INFO : EPOCH 8 - PROGRESS: at 23.68% examples, 39869 words/s, in_qsize 16, out_qsize 0\n",
      "2024-09-19 17:47:49,274 : INFO : EPOCH 8 - PROGRESS: at 36.29% examples, 41091 words/s, in_qsize 15, out_qsize 0\n",
      "2024-09-19 17:47:50,298 : INFO : EPOCH 8 - PROGRESS: at 49.05% examples, 42264 words/s, in_qsize 15, out_qsize 0\n",
      "2024-09-19 17:47:51,342 : INFO : EPOCH 8 - PROGRESS: at 61.66% examples, 42879 words/s, in_qsize 15, out_qsize 0\n",
      "2024-09-19 17:47:52,427 : INFO : EPOCH 8 - PROGRESS: at 75.56% examples, 43197 words/s, in_qsize 15, out_qsize 0\n",
      "2024-09-19 17:47:53,499 : INFO : EPOCH 8 - PROGRESS: at 89.28% examples, 43545 words/s, in_qsize 15, out_qsize 0\n",
      "2024-09-19 17:47:54,278 : INFO : EPOCH 8: training on 1987425 raw words (362283 effective words) took 8.2s, 44352 effective words/s\n",
      "2024-09-19 17:47:55,289 : INFO : EPOCH 9 - PROGRESS: at 11.92% examples, 42794 words/s, in_qsize 16, out_qsize 0\n",
      "2024-09-19 17:47:56,317 : INFO : EPOCH 9 - PROGRESS: at 24.27% examples, 42483 words/s, in_qsize 15, out_qsize 0\n",
      "2024-09-19 17:47:57,404 : INFO : EPOCH 9 - PROGRESS: at 36.81% examples, 42316 words/s, in_qsize 15, out_qsize 0\n",
      "2024-09-19 17:47:58,406 : INFO : EPOCH 9 - PROGRESS: at 49.05% examples, 42970 words/s, in_qsize 15, out_qsize 0\n",
      "2024-09-19 17:47:59,439 : INFO : EPOCH 9 - PROGRESS: at 61.15% examples, 43170 words/s, in_qsize 15, out_qsize 0\n",
      "2024-09-19 17:48:00,444 : INFO : EPOCH 9 - PROGRESS: at 71.95% examples, 42236 words/s, in_qsize 15, out_qsize 0\n",
      "2024-09-19 17:48:01,499 : INFO : EPOCH 9 - PROGRESS: at 84.23% examples, 42053 words/s, in_qsize 15, out_qsize 0\n",
      "2024-09-19 17:48:02,517 : INFO : EPOCH 9 - PROGRESS: at 96.09% examples, 42133 words/s, in_qsize 9, out_qsize 0\n",
      "2024-09-19 17:48:02,749 : INFO : EPOCH 9: training on 1987425 raw words (361933 effective words) took 8.5s, 42765 effective words/s\n",
      "2024-09-19 17:48:03,757 : INFO : EPOCH 10 - PROGRESS: at 8.89% examples, 32069 words/s, in_qsize 15, out_qsize 0\n",
      "2024-09-19 17:48:04,770 : INFO : EPOCH 10 - PROGRESS: at 21.13% examples, 37461 words/s, in_qsize 15, out_qsize 0\n",
      "2024-09-19 17:48:05,797 : INFO : EPOCH 10 - PROGRESS: at 32.90% examples, 38528 words/s, in_qsize 16, out_qsize 0\n",
      "2024-09-19 17:48:06,840 : INFO : EPOCH 10 - PROGRESS: at 45.02% examples, 39761 words/s, in_qsize 15, out_qsize 0\n",
      "2024-09-19 17:48:07,885 : INFO : EPOCH 10 - PROGRESS: at 56.82% examples, 40135 words/s, in_qsize 16, out_qsize 0\n",
      "2024-09-19 17:48:08,887 : INFO : EPOCH 10 - PROGRESS: at 68.88% examples, 40606 words/s, in_qsize 16, out_qsize 0\n",
      "2024-09-19 17:48:09,892 : INFO : EPOCH 10 - PROGRESS: at 80.53% examples, 40698 words/s, in_qsize 15, out_qsize 0\n",
      "2024-09-19 17:48:10,896 : INFO : EPOCH 10 - PROGRESS: at 91.75% examples, 40567 words/s, in_qsize 15, out_qsize 0\n",
      "2024-09-19 17:48:11,515 : INFO : EPOCH 10: training on 1987425 raw words (361568 effective words) took 8.8s, 41282 effective words/s\n",
      "2024-09-19 17:48:12,547 : INFO : EPOCH 11 - PROGRESS: at 11.92% examples, 41864 words/s, in_qsize 15, out_qsize 0\n",
      "2024-09-19 17:48:13,623 : INFO : EPOCH 11 - PROGRESS: at 20.66% examples, 35012 words/s, in_qsize 16, out_qsize 0\n",
      "2024-09-19 17:48:14,780 : INFO : EPOCH 11 - PROGRESS: at 32.90% examples, 35956 words/s, in_qsize 15, out_qsize 0\n",
      "2024-09-19 17:48:15,801 : INFO : EPOCH 11 - PROGRESS: at 44.61% examples, 37516 words/s, in_qsize 16, out_qsize 0\n",
      "2024-09-19 17:48:16,817 : INFO : EPOCH 11 - PROGRESS: at 56.34% examples, 38515 words/s, in_qsize 16, out_qsize 0\n",
      "2024-09-19 17:48:17,820 : INFO : EPOCH 11 - PROGRESS: at 68.92% examples, 39516 words/s, in_qsize 15, out_qsize 0\n",
      "2024-09-19 17:48:18,830 : INFO : EPOCH 11 - PROGRESS: at 81.54% examples, 40241 words/s, in_qsize 15, out_qsize 0\n",
      "2024-09-19 17:48:19,848 : INFO : EPOCH 11 - PROGRESS: at 94.59% examples, 40932 words/s, in_qsize 12, out_qsize 0\n",
      "2024-09-19 17:48:20,202 : INFO : EPOCH 11: training on 1987425 raw words (361282 effective words) took 8.7s, 41621 effective words/s\n",
      "2024-09-19 17:48:21,253 : INFO : EPOCH 12 - PROGRESS: at 11.92% examples, 41378 words/s, in_qsize 15, out_qsize 0\n",
      "2024-09-19 17:48:22,380 : INFO : EPOCH 12 - PROGRESS: at 24.80% examples, 40662 words/s, in_qsize 15, out_qsize 0\n",
      "2024-09-19 17:48:23,380 : INFO : EPOCH 12 - PROGRESS: at 38.75% examples, 43826 words/s, in_qsize 15, out_qsize 0\n",
      "2024-09-19 17:48:24,402 : INFO : EPOCH 12 - PROGRESS: at 50.48% examples, 43546 words/s, in_qsize 15, out_qsize 0\n",
      "2024-09-19 17:48:25,439 : INFO : EPOCH 12 - PROGRESS: at 63.13% examples, 43948 words/s, in_qsize 16, out_qsize 0\n",
      "2024-09-19 17:48:26,446 : INFO : EPOCH 12 - PROGRESS: at 76.01% examples, 44049 words/s, in_qsize 14, out_qsize 1\n",
      "2024-09-19 17:48:27,466 : INFO : EPOCH 12 - PROGRESS: at 89.28% examples, 44364 words/s, in_qsize 15, out_qsize 0\n",
      "2024-09-19 17:48:28,222 : INFO : EPOCH 12: training on 1987425 raw words (362302 effective words) took 8.0s, 45214 effective words/s\n",
      "2024-09-19 17:48:29,450 : INFO : EPOCH 13 - PROGRESS: at 12.44% examples, 36794 words/s, in_qsize 15, out_qsize 0\n",
      "2024-09-19 17:48:30,479 : INFO : EPOCH 13 - PROGRESS: at 28.41% examples, 44999 words/s, in_qsize 15, out_qsize 0\n",
      "2024-09-19 17:48:31,604 : INFO : EPOCH 13 - PROGRESS: at 40.61% examples, 43339 words/s, in_qsize 15, out_qsize 0\n",
      "2024-09-19 17:48:32,607 : INFO : EPOCH 13 - PROGRESS: at 54.38% examples, 45069 words/s, in_qsize 15, out_qsize 0\n",
      "2024-09-19 17:48:33,688 : INFO : EPOCH 13 - PROGRESS: at 67.32% examples, 44773 words/s, in_qsize 15, out_qsize 0\n",
      "2024-09-19 17:48:34,755 : INFO : EPOCH 13 - PROGRESS: at 81.10% examples, 44893 words/s, in_qsize 16, out_qsize 1\n",
      "2024-09-19 17:48:35,827 : INFO : EPOCH 13 - PROGRESS: at 95.06% examples, 45242 words/s, in_qsize 11, out_qsize 0\n",
      "2024-09-19 17:48:36,106 : INFO : EPOCH 13: training on 1987425 raw words (362512 effective words) took 7.9s, 46026 effective words/s\n",
      "2024-09-19 17:48:37,318 : INFO : EPOCH 14 - PROGRESS: at 12.48% examples, 37405 words/s, in_qsize 16, out_qsize 0\n",
      "2024-09-19 17:48:38,320 : INFO : EPOCH 14 - PROGRESS: at 26.87% examples, 43561 words/s, in_qsize 15, out_qsize 0\n",
      "2024-09-19 17:48:39,434 : INFO : EPOCH 14 - PROGRESS: at 40.61% examples, 44169 words/s, in_qsize 16, out_qsize 0\n",
      "2024-09-19 17:48:40,463 : INFO : EPOCH 14 - PROGRESS: at 53.39% examples, 44600 words/s, in_qsize 15, out_qsize 0\n",
      "2024-09-19 17:48:41,475 : INFO : EPOCH 14 - PROGRESS: at 66.76% examples, 45262 words/s, in_qsize 15, out_qsize 0\n",
      "2024-09-19 17:48:42,488 : INFO : EPOCH 14 - PROGRESS: at 78.98% examples, 44918 words/s, in_qsize 16, out_qsize 0\n",
      "2024-09-19 17:48:43,596 : INFO : EPOCH 14 - PROGRESS: at 91.32% examples, 44040 words/s, in_qsize 15, out_qsize 0\n",
      "2024-09-19 17:48:44,176 : INFO : EPOCH 14: training on 1987425 raw words (362767 effective words) took 8.1s, 44998 effective words/s\n",
      "2024-09-19 17:48:45,211 : INFO : EPOCH 15 - PROGRESS: at 10.42% examples, 36360 words/s, in_qsize 16, out_qsize 0\n",
      "2024-09-19 17:48:46,256 : INFO : EPOCH 15 - PROGRESS: at 23.21% examples, 39838 words/s, in_qsize 16, out_qsize 0\n",
      "2024-09-19 17:48:47,299 : INFO : EPOCH 15 - PROGRESS: at 35.41% examples, 40483 words/s, in_qsize 16, out_qsize 0\n",
      "2024-09-19 17:48:48,312 : INFO : EPOCH 15 - PROGRESS: at 48.96% examples, 42795 words/s, in_qsize 15, out_qsize 0\n",
      "2024-09-19 17:48:49,332 : INFO : EPOCH 15 - PROGRESS: at 61.66% examples, 43500 words/s, in_qsize 16, out_qsize 0\n",
      "2024-09-19 17:48:50,372 : INFO : EPOCH 15 - PROGRESS: at 74.14% examples, 43117 words/s, in_qsize 15, out_qsize 0\n",
      "2024-09-19 17:48:51,422 : INFO : EPOCH 15 - PROGRESS: at 87.73% examples, 43585 words/s, in_qsize 15, out_qsize 0\n",
      "2024-09-19 17:48:52,317 : INFO : EPOCH 15: training on 1987425 raw words (361732 effective words) took 8.1s, 44481 effective words/s\n",
      "2024-09-19 17:48:53,514 : INFO : EPOCH 16 - PROGRESS: at 12.48% examples, 37733 words/s, in_qsize 15, out_qsize 0\n",
      "2024-09-19 17:48:54,515 : INFO : EPOCH 16 - PROGRESS: at 26.87% examples, 43569 words/s, in_qsize 15, out_qsize 0\n",
      "2024-09-19 17:48:55,560 : INFO : EPOCH 16 - PROGRESS: at 40.12% examples, 44485 words/s, in_qsize 15, out_qsize 0\n",
      "2024-09-19 17:48:56,634 : INFO : EPOCH 16 - PROGRESS: at 52.32% examples, 43861 words/s, in_qsize 15, out_qsize 0\n",
      "2024-09-19 17:48:57,667 : INFO : EPOCH 16 - PROGRESS: at 66.24% examples, 44834 words/s, in_qsize 15, out_qsize 0\n",
      "2024-09-19 17:48:58,742 : INFO : EPOCH 16 - PROGRESS: at 80.08% examples, 44870 words/s, in_qsize 14, out_qsize 1\n",
      "2024-09-19 17:48:59,783 : INFO : EPOCH 16 - PROGRESS: at 93.66% examples, 45158 words/s, in_qsize 14, out_qsize 0\n",
      "2024-09-19 17:49:00,186 : INFO : EPOCH 16: training on 1987425 raw words (360785 effective words) took 7.9s, 45891 effective words/s\n",
      "2024-09-19 17:49:01,401 : INFO : EPOCH 17 - PROGRESS: at 12.48% examples, 36919 words/s, in_qsize 16, out_qsize 0\n",
      "2024-09-19 17:49:02,478 : INFO : EPOCH 17 - PROGRESS: at 28.41% examples, 43989 words/s, in_qsize 15, out_qsize 0\n",
      "2024-09-19 17:49:03,505 : INFO : EPOCH 17 - PROGRESS: at 40.61% examples, 43967 words/s, in_qsize 15, out_qsize 0\n",
      "2024-09-19 17:49:04,509 : INFO : EPOCH 17 - PROGRESS: at 53.35% examples, 44700 words/s, in_qsize 15, out_qsize 0\n",
      "2024-09-19 17:49:05,547 : INFO : EPOCH 17 - PROGRESS: at 67.32% examples, 45474 words/s, in_qsize 15, out_qsize 0\n",
      "2024-09-19 17:49:06,585 : INFO : EPOCH 17 - PROGRESS: at 80.08% examples, 45137 words/s, in_qsize 15, out_qsize 0\n",
      "2024-09-19 17:49:07,599 : INFO : EPOCH 17 - PROGRESS: at 93.66% examples, 45518 words/s, in_qsize 14, out_qsize 0\n",
      "2024-09-19 17:49:08,005 : INFO : EPOCH 17: training on 1987425 raw words (361265 effective words) took 7.8s, 46255 effective words/s\n",
      "2024-09-19 17:49:09,018 : INFO : EPOCH 18 - PROGRESS: at 11.92% examples, 42799 words/s, in_qsize 15, out_qsize 0\n",
      "2024-09-19 17:49:10,121 : INFO : EPOCH 18 - PROGRESS: at 24.80% examples, 41986 words/s, in_qsize 16, out_qsize 0\n",
      "2024-09-19 17:49:11,129 : INFO : EPOCH 18 - PROGRESS: at 39.20% examples, 45300 words/s, in_qsize 15, out_qsize 0\n",
      "2024-09-19 17:49:12,200 : INFO : EPOCH 18 - PROGRESS: at 51.40% examples, 44591 words/s, in_qsize 16, out_qsize 0\n",
      "2024-09-19 17:49:13,246 : INFO : EPOCH 18 - PROGRESS: at 65.14% examples, 45359 words/s, in_qsize 16, out_qsize 0\n",
      "2024-09-19 17:49:14,397 : INFO : EPOCH 18 - PROGRESS: at 79.55% examples, 45103 words/s, in_qsize 15, out_qsize 0\n",
      "2024-09-19 17:49:15,400 : INFO : EPOCH 18 - PROGRESS: at 93.66% examples, 45846 words/s, in_qsize 14, out_qsize 0\n",
      "2024-09-19 17:49:15,837 : INFO : EPOCH 18: training on 1987425 raw words (362951 effective words) took 7.8s, 46387 effective words/s\n",
      "2024-09-19 17:49:17,033 : INFO : EPOCH 19 - PROGRESS: at 12.48% examples, 37664 words/s, in_qsize 16, out_qsize 0\n",
      "2024-09-19 17:49:18,040 : INFO : EPOCH 19 - PROGRESS: at 27.36% examples, 44252 words/s, in_qsize 15, out_qsize 0\n",
      "2024-09-19 17:49:19,068 : INFO : EPOCH 19 - PROGRESS: at 39.63% examples, 44116 words/s, in_qsize 15, out_qsize 0\n",
      "2024-09-19 17:49:20,117 : INFO : EPOCH 19 - PROGRESS: at 52.32% examples, 44323 words/s, in_qsize 15, out_qsize 1\n",
      "2024-09-19 17:49:21,184 : INFO : EPOCH 19 - PROGRESS: at 66.76% examples, 45282 words/s, in_qsize 15, out_qsize 0\n",
      "2024-09-19 17:49:22,248 : INFO : EPOCH 19 - PROGRESS: at 80.08% examples, 45077 words/s, in_qsize 15, out_qsize 0\n",
      "2024-09-19 17:49:23,274 : INFO : EPOCH 19 - PROGRESS: at 94.59% examples, 45906 words/s, in_qsize 12, out_qsize 0\n",
      "2024-09-19 17:49:23,639 : INFO : EPOCH 19: training on 1987425 raw words (361597 effective words) took 7.8s, 46388 effective words/s\n",
      "2024-09-19 17:49:24,851 : INFO : EPOCH 20 - PROGRESS: at 12.46% examples, 37212 words/s, in_qsize 15, out_qsize 0\n",
      "2024-09-19 17:49:25,854 : INFO : EPOCH 20 - PROGRESS: at 28.41% examples, 45856 words/s, in_qsize 15, out_qsize 0\n",
      "2024-09-19 17:49:26,929 : INFO : EPOCH 20 - PROGRESS: at 40.61% examples, 44511 words/s, in_qsize 15, out_qsize 0\n",
      "2024-09-19 17:49:27,952 : INFO : EPOCH 20 - PROGRESS: at 53.83% examples, 45371 words/s, in_qsize 15, out_qsize 0\n",
      "2024-09-19 17:49:28,960 : INFO : EPOCH 20 - PROGRESS: at 65.68% examples, 44924 words/s, in_qsize 15, out_qsize 0\n",
      "2024-09-19 17:49:29,987 : INFO : EPOCH 20 - PROGRESS: at 78.98% examples, 45063 words/s, in_qsize 15, out_qsize 0\n",
      "2024-09-19 17:49:31,017 : INFO : EPOCH 20 - PROGRESS: at 93.22% examples, 45645 words/s, in_qsize 15, out_qsize 0\n",
      "2024-09-19 17:49:31,476 : INFO : EPOCH 20: training on 1987425 raw words (362359 effective words) took 7.8s, 46282 effective words/s\n",
      "2024-09-19 17:49:32,659 : INFO : EPOCH 21 - PROGRESS: at 12.48% examples, 38225 words/s, in_qsize 16, out_qsize 0\n",
      "2024-09-19 17:49:33,695 : INFO : EPOCH 21 - PROGRESS: at 28.41% examples, 45668 words/s, in_qsize 15, out_qsize 0\n",
      "2024-09-19 17:49:34,757 : INFO : EPOCH 21 - PROGRESS: at 40.61% examples, 44622 words/s, in_qsize 15, out_qsize 0\n",
      "2024-09-19 17:49:35,759 : INFO : EPOCH 21 - PROGRESS: at 53.83% examples, 45618 words/s, in_qsize 15, out_qsize 0\n",
      "2024-09-19 17:49:36,775 : INFO : EPOCH 21 - PROGRESS: at 67.32% examples, 46054 words/s, in_qsize 15, out_qsize 0\n",
      "2024-09-19 17:49:37,829 : INFO : EPOCH 21 - PROGRESS: at 81.01% examples, 46059 words/s, in_qsize 15, out_qsize 0\n",
      "2024-09-19 17:49:38,871 : INFO : EPOCH 21 - PROGRESS: at 94.59% examples, 46183 words/s, in_qsize 12, out_qsize 0\n",
      "2024-09-19 17:49:39,201 : INFO : EPOCH 21: training on 1987425 raw words (361871 effective words) took 7.7s, 46895 effective words/s\n",
      "2024-09-19 17:49:40,404 : INFO : EPOCH 22 - PROGRESS: at 12.38% examples, 37220 words/s, in_qsize 15, out_qsize 1\n",
      "2024-09-19 17:49:41,429 : INFO : EPOCH 22 - PROGRESS: at 28.41% examples, 45281 words/s, in_qsize 16, out_qsize 0\n",
      "2024-09-19 17:49:42,515 : INFO : EPOCH 22 - PROGRESS: at 40.59% examples, 44024 words/s, in_qsize 16, out_qsize 0\n",
      "2024-09-19 17:49:43,542 : INFO : EPOCH 22 - PROGRESS: at 54.31% examples, 45327 words/s, in_qsize 15, out_qsize 0\n",
      "2024-09-19 17:49:44,553 : INFO : EPOCH 22 - PROGRESS: at 66.76% examples, 45188 words/s, in_qsize 15, out_qsize 0\n",
      "2024-09-19 17:49:45,686 : INFO : EPOCH 22 - PROGRESS: at 81.10% examples, 45118 words/s, in_qsize 15, out_qsize 0\n",
      "2024-09-19 17:49:46,687 : INFO : EPOCH 22 - PROGRESS: at 94.18% examples, 45365 words/s, in_qsize 13, out_qsize 0\n",
      "2024-09-19 17:49:47,004 : INFO : EPOCH 22: training on 1987425 raw words (361410 effective words) took 7.8s, 46364 effective words/s\n",
      "2024-09-19 17:49:48,207 : INFO : EPOCH 23 - PROGRESS: at 12.48% examples, 37665 words/s, in_qsize 15, out_qsize 0\n",
      "2024-09-19 17:49:49,253 : INFO : EPOCH 23 - PROGRESS: at 25.82% examples, 41040 words/s, in_qsize 16, out_qsize 0\n",
      "2024-09-19 17:49:50,259 : INFO : EPOCH 23 - PROGRESS: at 38.33% examples, 42337 words/s, in_qsize 15, out_qsize 0\n",
      "2024-09-19 17:49:51,329 : INFO : EPOCH 23 - PROGRESS: at 51.83% examples, 43558 words/s, in_qsize 15, out_qsize 0\n",
      "2024-09-19 17:49:52,331 : INFO : EPOCH 23 - PROGRESS: at 64.59% examples, 44175 words/s, in_qsize 15, out_qsize 0\n",
      "2024-09-19 17:49:53,357 : INFO : EPOCH 23 - PROGRESS: at 78.51% examples, 44714 words/s, in_qsize 15, out_qsize 0\n",
      "2024-09-19 17:49:54,398 : INFO : EPOCH 23 - PROGRESS: at 91.87% examples, 44782 words/s, in_qsize 16, out_qsize 0\n",
      "2024-09-19 17:49:54,930 : INFO : EPOCH 23: training on 1987425 raw words (362166 effective words) took 7.9s, 45731 effective words/s\n",
      "2024-09-19 17:49:55,942 : INFO : EPOCH 24 - PROGRESS: at 11.44% examples, 40993 words/s, in_qsize 16, out_qsize 0\n",
      "2024-09-19 17:49:56,991 : INFO : EPOCH 24 - PROGRESS: at 24.27% examples, 42220 words/s, in_qsize 15, out_qsize 0\n",
      "2024-09-19 17:49:58,004 : INFO : EPOCH 24 - PROGRESS: at 36.34% examples, 42562 words/s, in_qsize 15, out_qsize 0\n",
      "2024-09-19 17:49:59,060 : INFO : EPOCH 24 - PROGRESS: at 50.03% examples, 43944 words/s, in_qsize 15, out_qsize 0\n",
      "2024-09-19 17:50:00,112 : INFO : EPOCH 24 - PROGRESS: at 62.64% examples, 44062 words/s, in_qsize 15, out_qsize 0\n",
      "2024-09-19 17:50:01,163 : INFO : EPOCH 24 - PROGRESS: at 76.09% examples, 44094 words/s, in_qsize 15, out_qsize 0\n",
      "2024-09-19 17:50:02,168 : INFO : EPOCH 24 - PROGRESS: at 89.28% examples, 44450 words/s, in_qsize 15, out_qsize 0\n",
      "2024-09-19 17:50:02,923 : INFO : EPOCH 24: training on 1987425 raw words (361998 effective words) took 8.0s, 45332 effective words/s\n",
      "2024-09-19 17:50:03,957 : INFO : EPOCH 25 - PROGRESS: at 11.44% examples, 40184 words/s, in_qsize 16, out_qsize 0\n",
      "2024-09-19 17:50:04,985 : INFO : EPOCH 25 - PROGRESS: at 24.27% examples, 41917 words/s, in_qsize 15, out_qsize 0\n",
      "2024-09-19 17:50:05,998 : INFO : EPOCH 25 - PROGRESS: at 36.81% examples, 42899 words/s, in_qsize 14, out_qsize 1\n",
      "2024-09-19 17:50:07,079 : INFO : EPOCH 25 - PROGRESS: at 50.44% examples, 43882 words/s, in_qsize 15, out_qsize 0\n",
      "2024-09-19 17:50:08,145 : INFO : EPOCH 25 - PROGRESS: at 62.64% examples, 43554 words/s, in_qsize 15, out_qsize 0\n",
      "2024-09-19 17:50:09,225 : INFO : EPOCH 25 - PROGRESS: at 76.98% examples, 44115 words/s, in_qsize 15, out_qsize 0\n",
      "2024-09-19 17:50:10,241 : INFO : EPOCH 25 - PROGRESS: at 90.75% examples, 44648 words/s, in_qsize 15, out_qsize 0\n",
      "2024-09-19 17:50:10,899 : INFO : EPOCH 25: training on 1987425 raw words (361457 effective words) took 8.0s, 45361 effective words/s\n",
      "2024-09-19 17:50:11,940 : INFO : EPOCH 26 - PROGRESS: at 10.42% examples, 36426 words/s, in_qsize 16, out_qsize 0\n",
      "2024-09-19 17:50:12,957 : INFO : EPOCH 26 - PROGRESS: at 23.15% examples, 40444 words/s, in_qsize 15, out_qsize 0\n",
      "2024-09-19 17:50:14,018 : INFO : EPOCH 26 - PROGRESS: at 36.29% examples, 41765 words/s, in_qsize 15, out_qsize 0\n",
      "2024-09-19 17:50:15,030 : INFO : EPOCH 26 - PROGRESS: at 50.03% examples, 43835 words/s, in_qsize 15, out_qsize 0\n",
      "2024-09-19 17:50:16,087 : INFO : EPOCH 26 - PROGRESS: at 62.19% examples, 43632 words/s, in_qsize 15, out_qsize 0\n",
      "2024-09-19 17:50:17,096 : INFO : EPOCH 26 - PROGRESS: at 76.05% examples, 44364 words/s, in_qsize 15, out_qsize 0\n",
      "2024-09-19 17:50:18,130 : INFO : EPOCH 26 - PROGRESS: at 89.72% examples, 44798 words/s, in_qsize 15, out_qsize 0\n",
      "2024-09-19 17:50:18,897 : INFO : EPOCH 26: training on 1987425 raw words (362305 effective words) took 8.0s, 45338 effective words/s\n",
      "2024-09-19 17:50:20,097 : INFO : EPOCH 27 - PROGRESS: at 12.44% examples, 37426 words/s, in_qsize 15, out_qsize 0\n",
      "2024-09-19 17:50:21,188 : INFO : EPOCH 27 - PROGRESS: at 27.88% examples, 43381 words/s, in_qsize 15, out_qsize 0\n",
      "2024-09-19 17:50:22,196 : INFO : EPOCH 27 - PROGRESS: at 40.61% examples, 44252 words/s, in_qsize 15, out_qsize 0\n",
      "2024-09-19 17:50:23,261 : INFO : EPOCH 27 - PROGRESS: at 53.83% examples, 44675 words/s, in_qsize 15, out_qsize 0\n",
      "2024-09-19 17:50:24,302 : INFO : EPOCH 27 - PROGRESS: at 65.68% examples, 44046 words/s, in_qsize 15, out_qsize 0\n",
      "2024-09-19 17:50:25,312 : INFO : EPOCH 27 - PROGRESS: at 79.08% examples, 44404 words/s, in_qsize 15, out_qsize 0\n",
      "2024-09-19 17:50:26,334 : INFO : EPOCH 27 - PROGRESS: at 92.74% examples, 44881 words/s, in_qsize 15, out_qsize 0\n",
      "2024-09-19 17:50:26,843 : INFO : EPOCH 27: training on 1987425 raw words (361312 effective words) took 7.9s, 45521 effective words/s\n",
      "2024-09-19 17:50:27,854 : INFO : EPOCH 28 - PROGRESS: at 11.92% examples, 42792 words/s, in_qsize 15, out_qsize 0\n",
      "2024-09-19 17:50:28,936 : INFO : EPOCH 28 - PROGRESS: at 24.80% examples, 42388 words/s, in_qsize 15, out_qsize 0\n",
      "2024-09-19 17:50:29,959 : INFO : EPOCH 28 - PROGRESS: at 38.75% examples, 44674 words/s, in_qsize 15, out_qsize 0\n",
      "2024-09-19 17:50:31,015 : INFO : EPOCH 28 - PROGRESS: at 50.95% examples, 44213 words/s, in_qsize 16, out_qsize 0\n",
      "2024-09-19 17:50:32,027 : INFO : EPOCH 28 - PROGRESS: at 64.14% examples, 44991 words/s, in_qsize 15, out_qsize 0\n",
      "2024-09-19 17:50:33,100 : INFO : EPOCH 28 - PROGRESS: at 78.04% examples, 45088 words/s, in_qsize 16, out_qsize 0\n",
      "2024-09-19 17:50:34,137 : INFO : EPOCH 28 - PROGRESS: at 90.28% examples, 44607 words/s, in_qsize 16, out_qsize 0\n",
      "2024-09-19 17:50:34,809 : INFO : EPOCH 28: training on 1987425 raw words (361874 effective words) took 8.0s, 45465 effective words/s\n",
      "2024-09-19 17:50:36,041 : INFO : EPOCH 29 - PROGRESS: at 12.46% examples, 36709 words/s, in_qsize 16, out_qsize 0\n",
      "2024-09-19 17:50:37,078 : INFO : EPOCH 29 - PROGRESS: at 28.41% examples, 44553 words/s, in_qsize 16, out_qsize 0\n",
      "2024-09-19 17:50:38,083 : INFO : EPOCH 29 - PROGRESS: at 40.12% examples, 44084 words/s, in_qsize 15, out_qsize 0\n",
      "2024-09-19 17:50:39,174 : INFO : EPOCH 29 - PROGRESS: at 52.90% examples, 43903 words/s, in_qsize 16, out_qsize 0\n",
      "2024-09-19 17:50:40,195 : INFO : EPOCH 29 - PROGRESS: at 66.24% examples, 44658 words/s, in_qsize 15, out_qsize 0\n",
      "2024-09-19 17:50:41,198 : INFO : EPOCH 29 - PROGRESS: at 80.00% examples, 45290 words/s, in_qsize 15, out_qsize 0\n",
      "2024-09-19 17:50:42,210 : INFO : EPOCH 29 - PROGRESS: at 93.22% examples, 45427 words/s, in_qsize 15, out_qsize 0\n",
      "2024-09-19 17:50:42,666 : INFO : EPOCH 29: training on 1987425 raw words (361924 effective words) took 7.9s, 46102 effective words/s\n",
      "2024-09-19 17:50:43,873 : INFO : EPOCH 30 - PROGRESS: at 12.46% examples, 37439 words/s, in_qsize 15, out_qsize 0\n",
      "2024-09-19 17:50:44,882 : INFO : EPOCH 30 - PROGRESS: at 27.88% examples, 44926 words/s, in_qsize 15, out_qsize 0\n",
      "2024-09-19 17:50:45,992 : INFO : EPOCH 30 - PROGRESS: at 40.13% examples, 43492 words/s, in_qsize 15, out_qsize 0\n",
      "2024-09-19 17:50:47,025 : INFO : EPOCH 30 - PROGRESS: at 52.41% examples, 43573 words/s, in_qsize 15, out_qsize 0\n",
      "2024-09-19 17:50:48,100 : INFO : EPOCH 30 - PROGRESS: at 65.12% examples, 43583 words/s, in_qsize 15, out_qsize 0\n",
      "2024-09-19 17:50:49,116 : INFO : EPOCH 30 - PROGRESS: at 78.02% examples, 43679 words/s, in_qsize 15, out_qsize 0\n",
      "2024-09-19 17:50:50,138 : INFO : EPOCH 30 - PROGRESS: at 90.75% examples, 43758 words/s, in_qsize 15, out_qsize 0\n",
      "2024-09-19 17:50:50,752 : INFO : EPOCH 30: training on 1987425 raw words (361857 effective words) took 8.1s, 44792 effective words/s\n",
      "2024-09-19 17:50:51,961 : INFO : EPOCH 31 - PROGRESS: at 12.48% examples, 37265 words/s, in_qsize 15, out_qsize 0\n",
      "2024-09-19 17:50:52,975 : INFO : EPOCH 31 - PROGRESS: at 27.88% examples, 44632 words/s, in_qsize 15, out_qsize 0\n",
      "2024-09-19 17:50:53,990 : INFO : EPOCH 31 - PROGRESS: at 40.12% examples, 44484 words/s, in_qsize 15, out_qsize 0\n",
      "2024-09-19 17:50:55,019 : INFO : EPOCH 31 - PROGRESS: at 52.32% examples, 44330 words/s, in_qsize 15, out_qsize 0\n",
      "2024-09-19 17:50:56,026 : INFO : EPOCH 31 - PROGRESS: at 66.24% examples, 45483 words/s, in_qsize 15, out_qsize 0\n",
      "2024-09-19 17:50:57,035 : INFO : EPOCH 31 - PROGRESS: at 79.55% examples, 45634 words/s, in_qsize 15, out_qsize 0\n",
      "2024-09-19 17:50:58,042 : INFO : EPOCH 31 - PROGRESS: at 92.30% examples, 45524 words/s, in_qsize 15, out_qsize 0\n",
      "2024-09-19 17:50:58,564 : INFO : EPOCH 31: training on 1987425 raw words (361324 effective words) took 7.8s, 46291 effective words/s\n",
      "2024-09-19 17:50:58,565 : INFO : Doc2Vec lifecycle event {'msg': 'training on 63597600 raw words (11580435 effective words) took 259.4s, 44650 effective words/s', 'datetime': '2024-09-19T17:50:58.565743', 'gensim': '4.3.3', 'python': '3.9.19 (main, May  6 2024, 20:12:36) [MSC v.1916 64 bit (AMD64)]', 'platform': 'Windows-10-10.0.22631-SP0', 'event': 'train'}\n"
     ]
    }
   ],
   "source": [
    "model.train(\n",
    "    train_documents,\n",
    "    total_examples=model.corpus_count,\n",
    "    epochs=32\n",
    ")"
   ]
  },
  {
   "cell_type": "code",
   "execution_count": 11,
   "metadata": {},
   "outputs": [
    {
     "name": "stdout",
     "output_type": "stream",
     "text": [
      "[ 5.8103129e-03  4.0630829e-03  1.0904035e-03  1.6544227e-03\n",
      "  2.4629582e-03 -9.2914741e-04  2.4596322e-03 -1.4713274e-03\n",
      " -7.3296967e-04 -2.7274359e-03 -5.9787091e-04 -2.2587464e-03\n",
      "  7.0648934e-03  4.1016373e-03 -9.2520221e-04 -3.0426783e-03\n",
      "  2.1942290e-03  1.4007266e-03 -7.2134738e-03  1.3600122e-03\n",
      " -4.5632287e-03 -3.7912668e-03  3.7918966e-03  4.0737623e-03\n",
      " -4.6727699e-03 -3.5577577e-03  5.1908744e-03  2.2782332e-03\n",
      "  1.4538902e-03 -6.5002980e-04  2.6779824e-03  2.2325760e-03\n",
      "  2.5375285e-03 -2.6460392e-03 -6.6477600e-03 -1.9993363e-03\n",
      "  3.0528156e-03 -8.8383356e-04 -1.1713987e-03  1.0504816e-03\n",
      " -2.2355821e-03 -7.4902078e-04  1.2272883e-03  2.1755509e-03\n",
      "  8.1326952e-04 -3.1075079e-03 -1.8428810e-03 -9.9664042e-04\n",
      "  6.2261946e-03  2.1043487e-03 -3.3363504e-03 -1.6753464e-03\n",
      "  1.4460665e-03 -1.4425744e-03 -2.2568195e-03 -5.2662316e-04\n",
      " -1.8517027e-04 -1.3509477e-03 -1.7260720e-03  3.2115659e-05\n",
      "  7.3214731e-04 -3.2514534e-03 -2.0057256e-03  3.2294043e-03\n",
      " -5.5181100e-03  4.5905639e-03  2.2843473e-03  5.6501263e-04\n",
      "  8.6886442e-04  4.3723774e-03  4.9785753e-03  1.1487176e-03\n",
      " -1.6328020e-05 -1.7905803e-04 -3.3199477e-03 -3.9887424e-03\n",
      "  2.4395406e-03 -5.7513407e-04  1.8837245e-03  3.7626998e-04\n",
      "  2.8093194e-03 -4.5735850e-03  2.6371586e-03 -2.6492920e-04\n",
      "  1.6965331e-03  1.0899333e-03  5.0714766e-03  2.4830280e-03\n",
      "  1.0232921e-05 -1.7147893e-04 -4.0511293e-03  1.2340422e-03\n",
      "  5.4948158e-03 -6.5725057e-05  4.8759771e-03 -8.8522263e-04\n",
      "  3.9892844e-03  1.3920033e-03  2.7502954e-04  2.8940397e-03\n",
      " -9.6467789e-04 -1.3016732e-03 -6.0750404e-04 -3.5947566e-03\n",
      " -2.4043076e-04 -2.4714326e-03 -5.1423116e-04  2.0073687e-03\n",
      " -4.1055451e-03  4.2883037e-03  4.8361061e-04 -1.1080980e-03\n",
      " -1.3594718e-03 -7.4394484e-04  1.0347518e-03  8.7150931e-04\n",
      " -9.4953110e-04  4.9501401e-04 -8.1266440e-04 -2.0775228e-04\n",
      "  8.0743001e-04  5.2871229e-04  1.7372682e-03 -2.0272208e-03\n",
      " -4.2462973e-03  1.1106103e-03 -4.7662379e-03 -1.3858299e-03\n",
      " -5.3877798e-03 -8.0316169e-03 -1.4257033e-03 -2.4245430e-03\n",
      " -3.9722230e-03  3.2891913e-03  1.5870635e-03  2.0087860e-03\n",
      " -1.7428945e-03  2.5308973e-03 -1.5424313e-03 -6.2668407e-03\n",
      "  3.3337405e-04 -4.2965123e-03 -2.6348745e-04 -2.3941215e-04\n",
      "  1.6793609e-04 -1.9452381e-03  1.9061341e-03  1.8266944e-03\n",
      "  9.9964649e-04 -3.0838780e-04 -2.3903078e-04  4.4583729e-05\n",
      "  3.5617417e-03 -3.5416135e-03  6.4630359e-03 -2.9907327e-03\n",
      " -2.9174583e-03 -1.3066522e-03  6.1469460e-03 -7.8637549e-04\n",
      " -4.0458511e-03  2.6773193e-04 -8.0172578e-04  2.4258676e-03\n",
      " -5.5835522e-03 -4.7824630e-03  1.6194077e-03  6.0872357e-05\n",
      " -2.9120955e-03  1.5772029e-04 -3.6854688e-03 -2.0622324e-04\n",
      " -3.6583839e-03  2.6088646e-03 -4.2158863e-05 -3.8414905e-04\n",
      " -2.9901690e-03  3.3383234e-03 -2.3680886e-03  1.9836312e-03\n",
      " -2.4840080e-03  1.6709357e-03  9.0356509e-04  2.2640971e-03\n",
      "  9.2504721e-04 -4.9708434e-03 -2.4417564e-04  1.4957944e-04\n",
      " -4.1811395e-04  2.0952616e-04  1.0132552e-03 -2.5253007e-04\n",
      "  3.9835637e-03  1.3769995e-03  9.7341073e-04  1.2422965e-03\n",
      " -2.6056862e-03 -1.5067374e-03  6.5069069e-04 -2.5353390e-03\n",
      " -1.9409530e-03 -3.9320677e-03 -6.1749760e-04 -2.1789868e-03\n",
      " -5.4433808e-04 -1.7385858e-03 -9.9875685e-04  7.4356468e-04\n",
      "  4.8711263e-03  1.1825265e-03  3.6745655e-04 -2.5388811e-04\n",
      "  2.7138731e-03  4.2110737e-03  1.1826018e-03 -9.9523335e-05\n",
      " -1.3467961e-03  2.7518426e-03  3.1877505e-03  5.3250394e-03\n",
      "  1.3836629e-03 -4.0494814e-03  2.9078245e-03 -3.3055720e-05\n",
      " -2.1741868e-03 -4.4296947e-03  3.3588137e-03  3.5278930e-03\n",
      " -4.6299468e-03 -1.8751376e-03 -3.2266581e-03 -4.1697077e-03\n",
      " -9.4670500e-04 -1.2729125e-03 -1.1624844e-03 -1.7345262e-03\n",
      " -2.5879501e-03 -3.3296371e-04 -6.8121594e-03 -2.8071639e-03\n",
      " -3.6931942e-06  2.1146622e-03 -3.7980638e-03 -4.1799378e-03\n",
      "  5.6164310e-04 -1.4190056e-04 -4.6878094e-03  4.0980419e-03\n",
      " -2.0144659e-03  5.1154336e-04  2.4958791e-03  9.3740330e-04\n",
      "  5.4663601e-03 -4.0583457e-03  7.9543830e-04 -1.0704271e-03\n",
      " -9.9569361e-04 -1.3852153e-03 -2.6401205e-03 -1.5243944e-03\n",
      "  6.2829361e-04  2.4852783e-03 -1.7472648e-03  9.6579381e-05\n",
      "  2.7025102e-03 -2.7473334e-03  2.8983525e-03  2.9688941e-03\n",
      " -8.6933462e-04  1.3062990e-03 -1.6704988e-03  3.9526261e-03\n",
      "  1.1949169e-03  3.1232000e-03 -3.8701578e-03 -2.5627413e-03\n",
      "  1.4107693e-03  7.5843446e-03  2.7938536e-03  9.3245407e-04\n",
      "  4.5879311e-03 -7.8081072e-04 -2.8104438e-03 -8.8821258e-04\n",
      "  2.7071629e-03 -1.0813578e-03  1.5060983e-03  2.7562222e-03\n",
      " -4.6062237e-03  3.1969387e-03 -3.4591241e-03  2.5224371e-03\n",
      " -2.5629937e-03 -3.5259249e-03  1.4992050e-03 -5.5107633e-03\n",
      "  2.1523563e-03  2.6682368e-03 -3.1407047e-03 -9.6460740e-04\n",
      "  2.0718998e-03  3.2990987e-03 -9.1057055e-04 -2.3904648e-03\n",
      " -2.5317241e-03  1.9586892e-03  3.7968911e-03  4.8050862e-03\n",
      "  6.1994093e-03  1.6021727e-03  1.1059679e-03 -2.0049817e-03\n",
      " -4.1843602e-03  2.3738693e-03  1.4635902e-03 -4.3391818e-03\n",
      "  1.9139980e-03 -1.4541437e-03 -4.4084955e-03  2.1791055e-03\n",
      "  1.3617380e-03 -2.9263971e-03 -2.9940396e-03  1.5556526e-03\n",
      " -2.6908721e-04  3.7971199e-03  4.7663046e-04  9.6976070e-04\n",
      " -2.8672619e-03 -3.3802391e-04 -1.9903542e-03 -7.3633314e-04\n",
      " -7.8907120e-04 -1.6031292e-03 -1.0151535e-03  2.5694182e-03\n",
      "  1.1240424e-03  5.0726929e-04 -3.5199763e-03 -2.3167352e-03\n",
      " -1.3980718e-03  4.6244878e-03  2.2341846e-03 -1.9756972e-04\n",
      "  1.8406500e-03  2.3506043e-05 -3.3594561e-03  4.7704321e-03\n",
      " -4.0991348e-04  6.9736096e-04 -2.6581259e-03  9.8476547e-04\n",
      " -5.2406295e-04  1.7842072e-03  6.1474659e-04  5.5437355e-05\n",
      "  9.2759222e-04  6.0943275e-04 -4.2752330e-03 -2.1463896e-03\n",
      " -1.3606871e-03  4.8735761e-04  3.3738979e-03  1.4227735e-03\n",
      " -1.6193574e-03 -3.0389533e-03  1.3267434e-03 -1.2571347e-03\n",
      "  1.0438681e-03 -5.7656318e-03  1.5573205e-03  2.8126189e-03\n",
      " -4.9201597e-04 -4.2900548e-04 -2.5000721e-03  3.2540641e-03\n",
      "  4.7531552e-03 -5.7183526e-04  8.1723359e-05  8.6607074e-04\n",
      "  1.6155506e-03 -3.1941375e-03 -1.5933826e-03 -8.0495852e-04\n",
      " -2.7533744e-03  1.4555580e-03 -2.1351055e-04  7.6369313e-04\n",
      "  3.3223262e-04 -3.6113252e-04 -6.9650578e-06  2.4645044e-03\n",
      " -5.8925916e-03  1.9565669e-03  2.9636528e-03  3.4861099e-03\n",
      "  1.7076471e-03  1.2460985e-03 -3.2066198e-03  1.0451037e-03]\n"
     ]
    }
   ],
   "source": [
    "vector = model.infer_vector('gostaria de fazer uma reclamação'.split(' '))\n",
    "print(vector)"
   ]
  },
  {
   "cell_type": "markdown",
   "metadata": {},
   "source": [
    "Teste de 'sanidade', calculando similaridade de documentos em relação ao conjunto todo"
   ]
  },
  {
   "cell_type": "code",
   "execution_count": 12,
   "metadata": {},
   "outputs": [],
   "source": [
    "ranks = []\n",
    "second_ranks = []\n",
    "\n",
    "for doc_id in range(len(train_documents)):\n",
    "    inferred_vector = model.infer_vector(train_documents[doc_id].words)\n",
    "    sims = model.dv.most_similar([inferred_vector], topn=len(model.dv))\n",
    "    rank = [docid for docid, sim in sims].index(doc_id)\n",
    "    ranks.append(rank)\n",
    "\n",
    "    second_ranks.append(sims[1])"
   ]
  },
  {
   "cell_type": "code",
   "execution_count": 15,
   "metadata": {},
   "outputs": [
    {
     "data": {
      "text/plain": [
       "18248"
      ]
     },
     "execution_count": 15,
     "metadata": {},
     "output_type": "execute_result"
    }
   ],
   "source": [
    "collections.Counter(ranks)[0]"
   ]
  },
  {
   "cell_type": "markdown",
   "metadata": {},
   "source": [
    "18248 de 22635 reclamações (80,62 %) são similares a elas mesmas, o que é um bom sinal"
   ]
  },
  {
   "cell_type": "code",
   "execution_count": 19,
   "metadata": {},
   "outputs": [
    {
     "name": "stdout",
     "output_type": "stream",
     "text": [
      "Document (53): «recebi conta tim com vencimento em estou questionando valor primeiro questionamento solicitei portabilidade da tim para oi em novembro de liguei para atendimento tim no dia solicitei que meu numero xxxxx fosse migrado para pre pago como renovacao do meu plano acontece todo dia informei que havia feito portabilidade para oi mesma aconteceria no dia aconteceu no dia as da manha atendente foi categorico dizendo que nao havia necessidade que eu poderia usar ate dia sem que fosse cobrada renovacao do plano desconfiado confirmei novamente foi categorico dizendo que era isso mesmo estou questionando valor de referente ao periodo de gravacao da conversa pode ser consultada atraves do protocolo xxx xxx xxx xx segundo questionamento nao recebi conta tim com vencimento em novembro por mail nao lembrava que estava em debito automatico verifiquei cobranca atraves do dda fiz pagamento em comprovante em anexo no dia aconteceu debito automatico pagando conta com vencimento em dezembro em duplicidade comprovante de debito automatico em anexo nesta conta com vencimento em janeiro nao foi reconhecido pagamento em duplicidade»\n",
      "\n",
      "SIMILAR/DISSIMILAR DOCS PER MODEL Doc2Vec<dm/c,d400,n20,w5,mc5,s1e-05,t8>:\n",
      "\n",
      "MOST (53, 0.8620508313179016): «recebi conta tim com vencimento em estou questionando valor primeiro questionamento solicitei portabilidade da tim para oi em novembro de liguei para atendimento tim no dia solicitei que meu numero xxxxx fosse migrado para pre pago como renovacao do meu plano acontece todo dia informei que havia feito portabilidade para oi mesma aconteceria no dia aconteceu no dia as da manha atendente foi categorico dizendo que nao havia necessidade que eu poderia usar ate dia sem que fosse cobrada renovacao do plano desconfiado confirmei novamente foi categorico dizendo que era isso mesmo estou questionando valor de referente ao periodo de gravacao da conversa pode ser consultada atraves do protocolo xxx xxx xxx xx segundo questionamento nao recebi conta tim com vencimento em novembro por mail nao lembrava que estava em debito automatico verifiquei cobranca atraves do dda fiz pagamento em comprovante em anexo no dia aconteceu debito automatico pagando conta com vencimento em dezembro em duplicidade comprovante de debito automatico em anexo nesta conta com vencimento em janeiro nao foi reconhecido pagamento em duplicidade»\n",
      "\n",
      "SECOND-MOST (6851, 0.4948989152908325): «boa tarde fui conferir meu extrato do aplicativo meu vivo apos ver ser informado que eu estava sem saldo estava extracao de alguns valores em relacao servicos ligacoes questionamento que os servicos cobrados sao inclusos no plano eu nunca utilizei nunca contratei ligacao nao deveria ser cobrada porque meu plano ligacao ilimitada para todas as operadoras foi extraido um valor exato de inadmissivel isso»\n",
      "\n",
      "MEDIAN (16193, 0.08640243858098984): «meu plano era no valor de foi reajustado para esta cobrando quase reais em tempo meu pacote de bonus informa um plano de gb de bonus mas nao contabilizado para fruicao em tempo fiz um pedido de portabilidade para outro numero no site sendo que este nao foi atendido por nao entrega do chip sendo que tive custo indevido de doze reais»\n",
      "\n",
      "LEAST (1116, -0.4347339868545532): «compareci no juizado especial me orientaram fazer reclamacao por aqui meu nome encontra se negativado por supostos debitos multa contratual por cancelamento de plano fidelidade ocorre que cancelamento se deu por defeito na prestacao de servicos pois tanto para realizacao de chamadas como pacote de dados nao estava funcionando tendo comparecido varias vezes na loja dentro do shopping estacao para tentativa de solucao do problema razao pela qual problema persistiu me obrigando realizar cancelamento pela ausencia de fornecimento dos servicos»\n",
      "\n"
     ]
    }
   ],
   "source": [
    "doc_id = 53\n",
    "\n",
    "inferred_vector = model.infer_vector(train_documents[doc_id].words)\n",
    "sims = model.dv.most_similar([inferred_vector], topn=len(model.dv))\n",
    "\n",
    "print('Document ({}): «{}»\\n'.format(doc_id, ' '.join(train_documents[doc_id].words)))\n",
    "print(u'SIMILAR/DISSIMILAR DOCS PER MODEL %s:\\n' % model)\n",
    "for label, index in [('MOST', 0), ('SECOND-MOST', 1), ('MEDIAN', len(sims)//2), ('LEAST', len(sims) - 1)]:\n",
    "    print(u'%s %s: «%s»\\n' % (label, sims[index], ' '.join(train_documents[sims[index][0]].words)))"
   ]
  },
  {
   "cell_type": "code",
   "execution_count": 22,
   "metadata": {},
   "outputs": [
    {
     "name": "stdout",
     "output_type": "stream",
     "text": [
      "MOST (12980, -0.6923020482063293): «relato que desde marco de realizei portabilidade da linha principal as dependentes para outra operadora apos ter sido surpreendido com inumeras cobrancas indevidas alteracoes contratuais de forma unilateral pela reclamada sem minha anuencia sendo assim procurei agencia de protecao defesa do consumidor de juiz de fora conforme os numeros de processos xxxxx xxxxx foi solucionado conforme termo seguir teresina de marco de procon municipal de juiz de fora av presidente itamar franco terreo cep xxxxx juiz de fora mg fa xxx xxx xxx xx cpf xxx xxx xxx xx consumidor jose fernandes de oliveira linha reclamada pedido prezados senhores em resposta ao questionamento do sr jose fernandes de oliveira encaminhada por esse orgao de defesa do consumidor registrado nesta empresa sob protocolo de nº xxx xxx xxx xx informamos que cliente possuia linha xxx xxx xxx xx vinculado ao plano oi mais gb cancelado em informamos que linha fixa velox encontram se devidamente cancelados por outro canal de atendimento desde nao sera gerado multa ou proporcional referente ao servico realizamos cancelamento das faturas abaixo conforme apuracao realizada plano linha movel xxx xxx xxx xx fatura no valor de com vencimento em foi cancelada no dia fatura no valor de com vencimento em foi cancelada no dia plano fixa fatura no valor de com vencimento em foi cancelada no dia sua satisfacao nosso objetivo por isso durante periodo de dias partir desta carta consumidor tera sua disposicao um atendimento exclusivo de segunda sabado das min as min atraves do telefone caso cliente caso tenha alguma duvida quanto sua solicitacao ou seus servicos estamos disponiveis em nossos canais alternativos de atendimento descritos logo abaixo site oi aplicativo minha oi canais fixo movel tv mais nova plataforma inteligente fale com joice pagina minha oi oi com br minha oi chat online whatsapp pelo telefone assunto foi devidamente esclarecido ao sr jose fernandes no contato telefonico realizado no dia as min ocasiao em que ficou ciente das informacoes por todo exposto entende se como solucionada resolvida solicitacao do consumidor ao tempo que se requer extincao da presente reclamacao seu consequente arquivamento junto ao orgao de protecao defesa do consumidor atenciosamente oi diretoria de operacoes odcs para minha surpresa recebi em uma cobranca junto aos orgaos de protecao referente questao mencionada acima ameacando inclusao do meu nome no cadastro negativo»\n",
      "\n"
     ]
    }
   ],
   "source": [
    "semantic_query = 'estou com problemas com meu numero da claro'\n",
    "\n",
    "inferred_vector = model.infer_vector(semantic_query.split(' '))\n",
    "sims = model.dv.most_similar([inferred_vector], topn=len(model.dv))\n",
    "\n",
    "print(u'%s %s: «%s»\\n' % ('MOST', sims[index], ' '.join(train_documents[sims[index][0]].words)))"
   ]
  },
  {
   "cell_type": "markdown",
   "metadata": {},
   "source": [
    "Testando o modelo com o conjunto de teste"
   ]
  },
  {
   "cell_type": "code",
   "execution_count": 26,
   "metadata": {},
   "outputs": [
    {
     "name": "stdout",
     "output_type": "stream",
     "text": [
      "Test Document (4748): «cobranca de fevereiro de de no mes de marco de minha fatura sempre foi de reais ja foi debitado pois debito automatico»\n",
      "\n",
      "SIMILAR/DISSIMILAR DOCS PER MODEL Doc2Vec<dm/c,d400,n20,w5,mc5,s1e-05,t8>:\n",
      "\n",
      "MOST (3425, 0.9134390950202942): «de acordo com reclamacao numero protocolo xxx xxx xxx xx era pra minha fatura vir reais mas veio no valor normal ja foi debitado da minha conta»\n",
      "\n",
      "MEDIAN (13560, 0.20986169576644897): «ainda me mandam faturas de um numero que ja esta no pre pago estao me ligando cobrando faturas peco providencias pois isso esta me gerando transtorno estao ameacando de mandar meu nome para spc»\n",
      "\n",
      "LEAST (14207, -0.9050188660621643): «um ano atras migrei um plano para pre pago ontem fui uma loja infezlimente ainda insiste em me mandar faturas em valores altos negativaram meu nome peco por gentileza as retiradas dessas faturas mais rapido possivel pois preciso do meu nome isso esta me impedindo de abri um financiamento peco que liguem em xxx xxx xxx xx»\n",
      "\n"
     ]
    }
   ],
   "source": [
    "# Escolhendo aleatoriamente um documento do conjunto de teste\n",
    "doc_id = random.randint(0, len(test_documents) - 1)\n",
    "inferred_vector = model.infer_vector(test_documents[doc_id])\n",
    "sims = model.dv.most_similar([inferred_vector], topn=len(model.dv))\n",
    "\n",
    "# Comparando este documento com o conjunto de treinamento\n",
    "print('Test Document ({}): «{}»\\n'.format(doc_id, ' '.join(test_documents[doc_id])))\n",
    "print(u'SIMILAR/DISSIMILAR DOCS PER MODEL %s:\\n' % model)\n",
    "for label, index in [('MOST', 0), ('MEDIAN', len(sims)//2), ('LEAST', len(sims) - 1)]:\n",
    "    print(u'%s %s: «%s»\\n' % (label, sims[index], ' '.join(train_documents[sims[index][0]].words)))"
   ]
  },
  {
   "cell_type": "markdown",
   "metadata": {},
   "source": [
    "Salvando modelo Doc2Vec"
   ]
  },
  {
   "cell_type": "code",
   "execution_count": 27,
   "metadata": {},
   "outputs": [
    {
     "name": "stderr",
     "output_type": "stream",
     "text": [
      "2024-09-19 19:02:23,668 : INFO : Doc2Vec lifecycle event {'fname_or_handle': '../model/doc2vec_telecom_pandemic_claims', 'separately': 'None', 'sep_limit': 10485760, 'ignore': frozenset(), 'datetime': '2024-09-19T19:02:23.667075', 'gensim': '4.3.3', 'python': '3.9.19 (main, May  6 2024, 20:12:36) [MSC v.1916 64 bit (AMD64)]', 'platform': 'Windows-10-10.0.22631-SP0', 'event': 'saving'}\n",
      "2024-09-19 19:02:23,672 : INFO : storing np array 'syn1neg' to ../model/doc2vec_telecom_pandemic_claims.syn1neg.npy\n",
      "2024-09-19 19:02:23,999 : INFO : not storing attribute cum_table\n",
      "2024-09-19 19:02:24,126 : INFO : saved ../model/doc2vec_telecom_pandemic_claims\n"
     ]
    }
   ],
   "source": [
    "model.save('../model/doc2vec_telecom_pandemic_claims')"
   ]
  }
 ],
 "metadata": {
  "kernelspec": {
   "display_name": "eEDB-002-2024-3",
   "language": "python",
   "name": "python3"
  },
  "language_info": {
   "codemirror_mode": {
    "name": "ipython",
    "version": 3
   },
   "file_extension": ".py",
   "mimetype": "text/x-python",
   "name": "python",
   "nbconvert_exporter": "python",
   "pygments_lexer": "ipython3",
   "version": "3.9.19"
  }
 },
 "nbformat": 4,
 "nbformat_minor": 2
}
