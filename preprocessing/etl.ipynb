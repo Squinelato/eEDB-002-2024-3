{
 "cells": [
  {
   "cell_type": "markdown",
   "metadata": {},
   "source": [
    "# Camada raw\n",
    "## Armazenando dados originais"
   ]
  },
  {
   "cell_type": "markdown",
   "metadata": {},
   "source": [
    "Importando biblotecas necessárias"
   ]
  },
  {
   "cell_type": "code",
   "execution_count": 2,
   "metadata": {},
   "outputs": [],
   "source": [
    "import pandas as pd"
   ]
  },
  {
   "cell_type": "markdown",
   "metadata": {},
   "source": [
    "Lendo arquivo original em csv"
   ]
  },
  {
   "cell_type": "code",
   "execution_count": 18,
   "metadata": {},
   "outputs": [],
   "source": [
    "rwzd_olist_order_reviews = pd.read_csv(\n",
    "    filepath_or_buffer='../dataset/incoming/olist_order_reviews_dataset.csv',\n",
    "    delimiter=',',\n",
    "    quotechar='\"',\n",
    "    header=0,\n",
    "    dtype={\n",
    "        'review_id': str,\n",
    "        'order_id': str,\n",
    "        'review_score': pd.UInt8Dtype(),\n",
    "        'review_comment_title': str,\n",
    "        'review_comment_message': str,\n",
    "        'review_creation_date': str,\n",
    "        'review_answer_timestamp': str,\n",
    "    },\n",
    "    date_format='%Y-%m-%d %H:%M:%s',\n",
    "    parse_dates=['review_creation_date', 'review_answer_timestamp'],\n",
    ")"
   ]
  },
  {
   "cell_type": "markdown",
   "metadata": {},
   "source": [
    "Assegurando tipo _datetime_ para colunas com datas"
   ]
  },
  {
   "cell_type": "code",
   "execution_count": 19,
   "metadata": {},
   "outputs": [],
   "source": [
    "rwzd_olist_order_reviews['review_creation_date'] = rwzd_olist_order_reviews['review_creation_date'].astype('datetime64[ns]')\n",
    "rwzd_olist_order_reviews['review_answer_timestamp'] = rwzd_olist_order_reviews['review_answer_timestamp'].astype('datetime64[ns]')\n"
   ]
  },
  {
   "cell_type": "markdown",
   "metadata": {},
   "source": [
    "Visualizando informações sobre os dados"
   ]
  },
  {
   "cell_type": "code",
   "execution_count": 20,
   "metadata": {},
   "outputs": [
    {
     "name": "stdout",
     "output_type": "stream",
     "text": [
      "<class 'pandas.core.frame.DataFrame'>\n",
      "RangeIndex: 100000 entries, 0 to 99999\n",
      "Data columns (total 7 columns):\n",
      " #   Column                   Non-Null Count   Dtype         \n",
      "---  ------                   --------------   -----         \n",
      " 0   review_id                100000 non-null  object        \n",
      " 1   order_id                 100000 non-null  object        \n",
      " 2   review_score             100000 non-null  UInt8         \n",
      " 3   review_comment_title     11715 non-null   object        \n",
      " 4   review_comment_message   41753 non-null   object        \n",
      " 5   review_creation_date     100000 non-null  datetime64[ns]\n",
      " 6   review_answer_timestamp  100000 non-null  datetime64[ns]\n",
      "dtypes: UInt8(1), datetime64[ns](2), object(4)\n",
      "memory usage: 4.8+ MB\n"
     ]
    }
   ],
   "source": [
    "rwzd_olist_order_reviews.info()"
   ]
  },
  {
   "cell_type": "code",
   "execution_count": 22,
   "metadata": {},
   "outputs": [
    {
     "data": {
      "text/html": [
       "<div>\n",
       "<style scoped>\n",
       "    .dataframe tbody tr th:only-of-type {\n",
       "        vertical-align: middle;\n",
       "    }\n",
       "\n",
       "    .dataframe tbody tr th {\n",
       "        vertical-align: top;\n",
       "    }\n",
       "\n",
       "    .dataframe thead th {\n",
       "        text-align: right;\n",
       "    }\n",
       "</style>\n",
       "<table border=\"1\" class=\"dataframe\">\n",
       "  <thead>\n",
       "    <tr style=\"text-align: right;\">\n",
       "      <th></th>\n",
       "      <th>review_id</th>\n",
       "      <th>order_id</th>\n",
       "      <th>review_score</th>\n",
       "      <th>review_comment_title</th>\n",
       "      <th>review_comment_message</th>\n",
       "      <th>review_creation_date</th>\n",
       "      <th>review_answer_timestamp</th>\n",
       "    </tr>\n",
       "  </thead>\n",
       "  <tbody>\n",
       "    <tr>\n",
       "      <th>99995</th>\n",
       "      <td>f3897127253a9592a73be9bdfdf4ed7a</td>\n",
       "      <td>22ec9f0669f784db00fa86d035cf8602</td>\n",
       "      <td>5</td>\n",
       "      <td>NaN</td>\n",
       "      <td>NaN</td>\n",
       "      <td>2017-12-09</td>\n",
       "      <td>2017-12-11 20:06:42</td>\n",
       "    </tr>\n",
       "    <tr>\n",
       "      <th>99996</th>\n",
       "      <td>b3de70c89b1510c4cd3d0649fd302472</td>\n",
       "      <td>55d4004744368f5571d1f590031933e4</td>\n",
       "      <td>5</td>\n",
       "      <td>NaN</td>\n",
       "      <td>Excelente mochila, entrega super rápida. Super...</td>\n",
       "      <td>2018-03-22</td>\n",
       "      <td>2018-03-23 09:10:43</td>\n",
       "    </tr>\n",
       "    <tr>\n",
       "      <th>99997</th>\n",
       "      <td>1adeb9d84d72fe4e337617733eb85149</td>\n",
       "      <td>7725825d039fc1f0ceb7635e3f7d9206</td>\n",
       "      <td>4</td>\n",
       "      <td>NaN</td>\n",
       "      <td>NaN</td>\n",
       "      <td>2018-07-01</td>\n",
       "      <td>2018-07-02 12:59:13</td>\n",
       "    </tr>\n",
       "    <tr>\n",
       "      <th>99998</th>\n",
       "      <td>be360f18f5df1e0541061c87021e6d93</td>\n",
       "      <td>f8bd3f2000c28c5342fedeb5e50f2e75</td>\n",
       "      <td>1</td>\n",
       "      <td>NaN</td>\n",
       "      <td>Solicitei a compra de uma capa de retrovisor c...</td>\n",
       "      <td>2017-12-15</td>\n",
       "      <td>2017-12-16 01:29:43</td>\n",
       "    </tr>\n",
       "    <tr>\n",
       "      <th>99999</th>\n",
       "      <td>efe49f1d6f951dd88b51e6ccd4cc548f</td>\n",
       "      <td>90531360ecb1eec2a1fbb265a0db0508</td>\n",
       "      <td>1</td>\n",
       "      <td>NaN</td>\n",
       "      <td>meu produto chegou e ja tenho que devolver, po...</td>\n",
       "      <td>2017-07-03</td>\n",
       "      <td>2017-07-03 21:01:49</td>\n",
       "    </tr>\n",
       "  </tbody>\n",
       "</table>\n",
       "</div>"
      ],
      "text/plain": [
       "                              review_id                          order_id  \\\n",
       "99995  f3897127253a9592a73be9bdfdf4ed7a  22ec9f0669f784db00fa86d035cf8602   \n",
       "99996  b3de70c89b1510c4cd3d0649fd302472  55d4004744368f5571d1f590031933e4   \n",
       "99997  1adeb9d84d72fe4e337617733eb85149  7725825d039fc1f0ceb7635e3f7d9206   \n",
       "99998  be360f18f5df1e0541061c87021e6d93  f8bd3f2000c28c5342fedeb5e50f2e75   \n",
       "99999  efe49f1d6f951dd88b51e6ccd4cc548f  90531360ecb1eec2a1fbb265a0db0508   \n",
       "\n",
       "       review_score review_comment_title  \\\n",
       "99995             5                  NaN   \n",
       "99996             5                  NaN   \n",
       "99997             4                  NaN   \n",
       "99998             1                  NaN   \n",
       "99999             1                  NaN   \n",
       "\n",
       "                                  review_comment_message review_creation_date  \\\n",
       "99995                                                NaN           2017-12-09   \n",
       "99996  Excelente mochila, entrega super rápida. Super...           2018-03-22   \n",
       "99997                                                NaN           2018-07-01   \n",
       "99998  Solicitei a compra de uma capa de retrovisor c...           2017-12-15   \n",
       "99999  meu produto chegou e ja tenho que devolver, po...           2017-07-03   \n",
       "\n",
       "      review_answer_timestamp  \n",
       "99995     2017-12-11 20:06:42  \n",
       "99996     2018-03-23 09:10:43  \n",
       "99997     2018-07-02 12:59:13  \n",
       "99998     2017-12-16 01:29:43  \n",
       "99999     2017-07-03 21:01:49  "
      ]
     },
     "execution_count": 22,
     "metadata": {},
     "output_type": "execute_result"
    }
   ],
   "source": [
    "rwzd_olist_order_reviews.tail()"
   ]
  },
  {
   "cell_type": "markdown",
   "metadata": {},
   "source": [
    "Salvando dados na camada raw em formato parquet"
   ]
  },
  {
   "cell_type": "code",
   "execution_count": 23,
   "metadata": {},
   "outputs": [],
   "source": [
    "rwzd_olist_order_reviews.to_parquet(\n",
    "    path='../dataset/raw/rwzd_olist_order_reviews.parquet.snappy',\n",
    "    engine='pyarrow',\n",
    "    compression='snappy',\n",
    "    index=False,\n",
    ")"
   ]
  },
  {
   "cell_type": "markdown",
   "metadata": {},
   "source": [
    "# Camada trusted\n",
    "## Aplicando tratamentos nos dados"
   ]
  },
  {
   "cell_type": "markdown",
   "metadata": {},
   "source": [
    "Importando bibliotecas necessárias"
   ]
  },
  {
   "cell_type": "code",
   "execution_count": 70,
   "metadata": {},
   "outputs": [],
   "source": [
    "import pandas as pd"
   ]
  },
  {
   "cell_type": "code",
   "execution_count": 71,
   "metadata": {},
   "outputs": [],
   "source": [
    "pd.set_option('display.max_colwidth', None)"
   ]
  },
  {
   "cell_type": "markdown",
   "metadata": {},
   "source": [
    "Lendo dados da camada raw"
   ]
  },
  {
   "cell_type": "code",
   "execution_count": 72,
   "metadata": {},
   "outputs": [],
   "source": [
    "trzd_olist_order_reviews = pd.read_parquet(\n",
    "    path='../dataset/raw/rwzd_olist_order_reviews.parquet.snappy',\n",
    "    engine='pyarrow',\n",
    ")"
   ]
  },
  {
   "cell_type": "markdown",
   "metadata": {},
   "source": [
    "Filtrando por avaliações que tenham ao menos uma mensagem, mas não necessariamente o título"
   ]
  },
  {
   "cell_type": "code",
   "execution_count": 73,
   "metadata": {},
   "outputs": [],
   "source": [
    "trzd_olist_order_reviews.dropna(thresh=6, inplace=True)"
   ]
  },
  {
   "cell_type": "markdown",
   "metadata": {},
   "source": [
    "Filtrando avaliações que comentaram sobre entregas nos comentários"
   ]
  },
  {
   "cell_type": "code",
   "execution_count": 74,
   "metadata": {},
   "outputs": [],
   "source": [
    "deliver_message_mask = trzd_olist_order_reviews['review_comment_message'].str.contains(\n",
    "    pat='entrega|prazo|recebi|recebido|chego|chegou',\n",
    "    case=False,\n",
    "    regex=True,\n",
    "    na=False,\n",
    ")"
   ]
  },
  {
   "cell_type": "markdown",
   "metadata": {},
   "source": [
    "Filtrando avaliações que comentaram sobre entregas no título"
   ]
  },
  {
   "cell_type": "code",
   "execution_count": 75,
   "metadata": {},
   "outputs": [],
   "source": [
    "deliver_title_mask = trzd_olist_order_reviews['review_comment_title'].str.contains(\n",
    "    pat='entrega|prazo|recebi|recebido|chego|chegou',\n",
    "    case=False,\n",
    "    regex=True,\n",
    "    na=False,\n",
    ")"
   ]
  },
  {
   "cell_type": "markdown",
   "metadata": {},
   "source": [
    "Criando máscara para identificar avaliações que comentaram sobre entregas tanto no título quanto nos comentários"
   ]
  },
  {
   "cell_type": "code",
   "execution_count": 76,
   "metadata": {},
   "outputs": [],
   "source": [
    "deliver_mask = (deliver_message_mask | deliver_title_mask)"
   ]
  },
  {
   "cell_type": "markdown",
   "metadata": {},
   "source": [
    "Removendo avaliações sobre entregas uma vez que o foco está nas avaliações de produtos"
   ]
  },
  {
   "cell_type": "code",
   "execution_count": 77,
   "metadata": {},
   "outputs": [],
   "source": [
    "deliver_reviews_index = trzd_olist_order_reviews.loc[deliver_mask].index"
   ]
  },
  {
   "cell_type": "code",
   "execution_count": 78,
   "metadata": {},
   "outputs": [],
   "source": [
    "trzd_olist_order_reviews.drop(\n",
    "    index=deliver_reviews_index,\n",
    "    inplace=True\n",
    ")"
   ]
  },
  {
   "cell_type": "code",
   "execution_count": 81,
   "metadata": {},
   "outputs": [
    {
     "data": {
      "text/html": [
       "<div>\n",
       "<style scoped>\n",
       "    .dataframe tbody tr th:only-of-type {\n",
       "        vertical-align: middle;\n",
       "    }\n",
       "\n",
       "    .dataframe tbody tr th {\n",
       "        vertical-align: top;\n",
       "    }\n",
       "\n",
       "    .dataframe thead th {\n",
       "        text-align: right;\n",
       "    }\n",
       "</style>\n",
       "<table border=\"1\" class=\"dataframe\">\n",
       "  <thead>\n",
       "    <tr style=\"text-align: right;\">\n",
       "      <th></th>\n",
       "      <th>review_id</th>\n",
       "      <th>order_id</th>\n",
       "      <th>review_score</th>\n",
       "      <th>review_comment_title</th>\n",
       "      <th>review_comment_message</th>\n",
       "      <th>review_creation_date</th>\n",
       "      <th>review_answer_timestamp</th>\n",
       "    </tr>\n",
       "  </thead>\n",
       "  <tbody>\n",
       "    <tr>\n",
       "      <th>99967</th>\n",
       "      <td>0e7bc73fde6782891898ea71443f9904</td>\n",
       "      <td>bd78f91afbb1ecbc6124974c5e813043</td>\n",
       "      <td>4</td>\n",
       "      <td>👍</td>\n",
       "      <td>Aprovado!</td>\n",
       "      <td>2018-07-04</td>\n",
       "      <td>2018-07-05 00:25:13</td>\n",
       "    </tr>\n",
       "    <tr>\n",
       "      <th>99971</th>\n",
       "      <td>58be140ccdc12e8908ff7fd2ba5c7cb0</td>\n",
       "      <td>0ebf8e35b9807ee2d717922d5663ccdb</td>\n",
       "      <td>5</td>\n",
       "      <td>muito bom produto</td>\n",
       "      <td>Ficamos muito satisfeitos com o produto, atende às nossas necessidades com muita facilidade. Recomendo!</td>\n",
       "      <td>2018-06-30</td>\n",
       "      <td>2018-07-02 23:09:35</td>\n",
       "    </tr>\n",
       "    <tr>\n",
       "      <th>99974</th>\n",
       "      <td>40743b46a0ee86375cedb95e82b78d75</td>\n",
       "      <td>3e93213bb8fdda91186b4018b2fe0030</td>\n",
       "      <td>5</td>\n",
       "      <td>OTIMA EMBALAGEM</td>\n",
       "      <td>None</td>\n",
       "      <td>2018-08-08</td>\n",
       "      <td>2018-08-08 16:56:16</td>\n",
       "    </tr>\n",
       "    <tr>\n",
       "      <th>99975</th>\n",
       "      <td>2ee221b28e5b6fceffac59487ed39348</td>\n",
       "      <td>f2d12dd37eaef72ed7b1186b2edefbcd</td>\n",
       "      <td>2</td>\n",
       "      <td>Foto enganosa</td>\n",
       "      <td>Foto muito diferente principalmente a graninha sintética muito rala...diferente da foto</td>\n",
       "      <td>2018-03-28</td>\n",
       "      <td>2018-05-25 01:23:26</td>\n",
       "    </tr>\n",
       "    <tr>\n",
       "      <th>99990</th>\n",
       "      <td>a709d176f59bc3af77f4149c96bae357</td>\n",
       "      <td>d5cb12269711bd1eaf7eed8fd32a7c95</td>\n",
       "      <td>3</td>\n",
       "      <td>None</td>\n",
       "      <td>O produto não foi enviado com NF, não existe venda sem NF, com certeza fico no aguardo do envio da NF podendo ser por e-mail.</td>\n",
       "      <td>2018-05-19</td>\n",
       "      <td>2018-05-20 21:51:06</td>\n",
       "    </tr>\n",
       "  </tbody>\n",
       "</table>\n",
       "</div>"
      ],
      "text/plain": [
       "                              review_id                          order_id  \\\n",
       "99967  0e7bc73fde6782891898ea71443f9904  bd78f91afbb1ecbc6124974c5e813043   \n",
       "99971  58be140ccdc12e8908ff7fd2ba5c7cb0  0ebf8e35b9807ee2d717922d5663ccdb   \n",
       "99974  40743b46a0ee86375cedb95e82b78d75  3e93213bb8fdda91186b4018b2fe0030   \n",
       "99975  2ee221b28e5b6fceffac59487ed39348  f2d12dd37eaef72ed7b1186b2edefbcd   \n",
       "99990  a709d176f59bc3af77f4149c96bae357  d5cb12269711bd1eaf7eed8fd32a7c95   \n",
       "\n",
       "       review_score review_comment_title  \\\n",
       "99967             4                    👍   \n",
       "99971             5   muito bom produto    \n",
       "99974             5      OTIMA EMBALAGEM   \n",
       "99975             2       Foto enganosa    \n",
       "99990             3                 None   \n",
       "\n",
       "                                                                                                              review_comment_message  \\\n",
       "99967                                                                                                                      Aprovado!   \n",
       "99971                        Ficamos muito satisfeitos com o produto, atende às nossas necessidades com muita facilidade. Recomendo!   \n",
       "99974                                                                                                                           None   \n",
       "99975                                        Foto muito diferente principalmente a graninha sintética muito rala...diferente da foto   \n",
       "99990  O produto não foi enviado com NF, não existe venda sem NF, com certeza fico no aguardo do envio da NF podendo ser por e-mail.   \n",
       "\n",
       "      review_creation_date review_answer_timestamp  \n",
       "99967           2018-07-04     2018-07-05 00:25:13  \n",
       "99971           2018-06-30     2018-07-02 23:09:35  \n",
       "99974           2018-08-08     2018-08-08 16:56:16  \n",
       "99975           2018-03-28     2018-05-25 01:23:26  \n",
       "99990           2018-05-19     2018-05-20 21:51:06  "
      ]
     },
     "execution_count": 81,
     "metadata": {},
     "output_type": "execute_result"
    }
   ],
   "source": [
    "trzd_olist_order_reviews.tail()"
   ]
  },
  {
   "cell_type": "markdown",
   "metadata": {},
   "source": [
    "Salvando dados na camada trusted em formato parquet"
   ]
  },
  {
   "cell_type": "code",
   "execution_count": 82,
   "metadata": {},
   "outputs": [],
   "source": [
    "trzd_olist_order_reviews.to_parquet(\n",
    "    path='../dataset/trusted/trzd_olist_order_reviews.parquet.snappy',\n",
    "    engine='pyarrow',\n",
    "    compression='snappy',\n",
    "    index=False,\n",
    ")"
   ]
  }
 ],
 "metadata": {
  "kernelspec": {
   "display_name": "eEDB-002-2024-3",
   "language": "python",
   "name": "python3"
  },
  "language_info": {
   "codemirror_mode": {
    "name": "ipython",
    "version": 3
   },
   "file_extension": ".py",
   "mimetype": "text/x-python",
   "name": "python",
   "nbconvert_exporter": "python",
   "pygments_lexer": "ipython3",
   "version": "3.10.4"
  }
 },
 "nbformat": 4,
 "nbformat_minor": 2
}
