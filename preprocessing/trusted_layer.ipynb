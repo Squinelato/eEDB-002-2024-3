{
 "cells": [
  {
   "cell_type": "markdown",
   "metadata": {},
   "source": [
    "# Camada trusted\n",
    "## Criação de características relevantes"
   ]
  },
  {
   "cell_type": "markdown",
   "metadata": {},
   "source": [
    "Importando biblotecas necessárias"
   ]
  },
  {
   "cell_type": "code",
   "execution_count": 123,
   "metadata": {},
   "outputs": [],
   "source": [
    "import pandas as pd"
   ]
  },
  {
   "cell_type": "markdown",
   "metadata": {},
   "source": [
    "lendo base de dados original com reclamações do consumidor.gov em formato csv."
   ]
  },
  {
   "cell_type": "code",
   "execution_count": 101,
   "metadata": {},
   "outputs": [],
   "source": [
    "claims = pd.read_csv(\n",
    "    filepath_or_buffer='../dataset/raw/consumidor_gov.csv',\n",
    "    delimiter=',',\n",
    "    quotechar='\"',\n",
    "    header=0,\n",
    "    names=[\n",
    "        'company_name',\n",
    "        'date',\n",
    "        'uf',\n",
    "        'city',\n",
    "        'customer_claim',\n",
    "        'company_response'\n",
    "    ],\n",
    ")"
   ]
  },
  {
   "cell_type": "markdown",
   "metadata": {},
   "source": [
    "Convertendo coluna `date` do tipo _string_ para o tipo _date_."
   ]
  },
  {
   "cell_type": "code",
   "execution_count": 102,
   "metadata": {},
   "outputs": [],
   "source": [
    "claims['date'] = claims['date'].astype('datetime64[ns]')"
   ]
  },
  {
   "cell_type": "markdown",
   "metadata": {},
   "source": [
    "Removendo caracteres especias (`\\n`, `\\r`, `\\t`) de início e fim de texto para as colunas `customer_claim` e `company_response`."
   ]
  },
  {
   "cell_type": "code",
   "execution_count": 104,
   "metadata": {},
   "outputs": [],
   "source": [
    "claims['customer_claim'] = claims['customer_claim'].apply(lambda text: text.strip())\n",
    "claims['company_response'] = claims['company_response'].apply(lambda text: text.strip())"
   ]
  },
  {
   "cell_type": "markdown",
   "metadata": {},
   "source": [
    "Substituindo caracteres especiais (`\\n`, `\\r`, `\\t`) no meio do texto por espaço vazio para as colunas `customer_claim` e `company_response`."
   ]
  },
  {
   "cell_type": "code",
   "execution_count": 105,
   "metadata": {},
   "outputs": [],
   "source": [
    "claims['customer_claim'] = claims['customer_claim'].str.replace(\n",
    "    pat='[\\n\\r\\t]+',\n",
    "    repl=' ',\n",
    "    regex=True\n",
    ")"
   ]
  },
  {
   "cell_type": "code",
   "execution_count": 109,
   "metadata": {},
   "outputs": [],
   "source": [
    "claims['company_response'] = claims['company_response'].str.replace(\n",
    "    pat='[\\n\\r\\t]+',\n",
    "    repl=' ',\n",
    "    regex=True\n",
    ")"
   ]
  },
  {
   "cell_type": "markdown",
   "metadata": {},
   "source": [
    "Explicitando reclamações sem resposta com valor `None`."
   ]
  },
  {
   "cell_type": "code",
   "execution_count": 114,
   "metadata": {},
   "outputs": [],
   "source": [
    "claims['company_response'] =  claims['company_response'].replace({'<não respondido pela empresa>': None})"
   ]
  },
  {
   "cell_type": "markdown",
   "metadata": {},
   "source": [
    "Removendo índice original do arquivo csv."
   ]
  },
  {
   "cell_type": "code",
   "execution_count": 119,
   "metadata": {},
   "outputs": [],
   "source": [
    "claims.reset_index(drop=True, inplace=True)"
   ]
  },
  {
   "cell_type": "markdown",
   "metadata": {},
   "source": [
    "Visualizando $5$ primeiros registros."
   ]
  },
  {
   "cell_type": "code",
   "execution_count": 120,
   "metadata": {},
   "outputs": [
    {
     "data": {
      "text/html": [
       "<div>\n",
       "<style scoped>\n",
       "    .dataframe tbody tr th:only-of-type {\n",
       "        vertical-align: middle;\n",
       "    }\n",
       "\n",
       "    .dataframe tbody tr th {\n",
       "        vertical-align: top;\n",
       "    }\n",
       "\n",
       "    .dataframe thead th {\n",
       "        text-align: right;\n",
       "    }\n",
       "</style>\n",
       "<table border=\"1\" class=\"dataframe\">\n",
       "  <thead>\n",
       "    <tr style=\"text-align: right;\">\n",
       "      <th></th>\n",
       "      <th>company_name</th>\n",
       "      <th>date</th>\n",
       "      <th>uf</th>\n",
       "      <th>city</th>\n",
       "      <th>customer_claim</th>\n",
       "      <th>company_response</th>\n",
       "    </tr>\n",
       "  </thead>\n",
       "  <tbody>\n",
       "    <tr>\n",
       "      <th>0</th>\n",
       "      <td>Correios</td>\n",
       "      <td>2021-04-13</td>\n",
       "      <td>MG</td>\n",
       "      <td>São João Del Rei</td>\n",
       "      <td>Boa tarde ! No dia 08/04/2021, por volta das 1...</td>\n",
       "      <td>Prezado Cliente, para que possamos verificar o...</td>\n",
       "    </tr>\n",
       "    <tr>\n",
       "      <th>1</th>\n",
       "      <td>Samsung</td>\n",
       "      <td>2021-04-25</td>\n",
       "      <td>MG</td>\n",
       "      <td>Belo Horizonte</td>\n",
       "      <td>Fui realizar essa ultima atualização do androi...</td>\n",
       "      <td>Caro cliente, Conforme contato realizado atrav...</td>\n",
       "    </tr>\n",
       "    <tr>\n",
       "      <th>2</th>\n",
       "      <td>Vivo - Telefônica</td>\n",
       "      <td>2021-04-14</td>\n",
       "      <td>MG</td>\n",
       "      <td>Caratinga</td>\n",
       "      <td>Ao contatar a empresa, solicitei a 2ª via de c...</td>\n",
       "      <td>Prezada Sra. Vitoria Realizamos tentativa de c...</td>\n",
       "    </tr>\n",
       "    <tr>\n",
       "      <th>3</th>\n",
       "      <td>Vivo - Telefônica</td>\n",
       "      <td>2021-04-13</td>\n",
       "      <td>MG</td>\n",
       "      <td>Carmópolis de Minas</td>\n",
       "      <td>Fiz uma reclamação anteriormente a respeito de...</td>\n",
       "      <td>Prezada Sra. Juliana Realizamos tentativa de c...</td>\n",
       "    </tr>\n",
       "    <tr>\n",
       "      <th>4</th>\n",
       "      <td>Vivo - Telefônica</td>\n",
       "      <td>2021-04-14</td>\n",
       "      <td>MG</td>\n",
       "      <td>Santa Bárbara do Leste</td>\n",
       "      <td>Solicitei a Vivo plano para o número (33) XXXX...</td>\n",
       "      <td>Contatamos o responsável pela manifestação no ...</td>\n",
       "    </tr>\n",
       "  </tbody>\n",
       "</table>\n",
       "</div>"
      ],
      "text/plain": [
       "        company_name       date  uf                    city  \\\n",
       "0           Correios 2021-04-13  MG        São João Del Rei   \n",
       "1            Samsung 2021-04-25  MG          Belo Horizonte   \n",
       "2  Vivo - Telefônica 2021-04-14  MG               Caratinga   \n",
       "3  Vivo - Telefônica 2021-04-13  MG     Carmópolis de Minas   \n",
       "4  Vivo - Telefônica 2021-04-14  MG  Santa Bárbara do Leste   \n",
       "\n",
       "                                      customer_claim  \\\n",
       "0  Boa tarde ! No dia 08/04/2021, por volta das 1...   \n",
       "1  Fui realizar essa ultima atualização do androi...   \n",
       "2  Ao contatar a empresa, solicitei a 2ª via de c...   \n",
       "3  Fiz uma reclamação anteriormente a respeito de...   \n",
       "4  Solicitei a Vivo plano para o número (33) XXXX...   \n",
       "\n",
       "                                    company_response  \n",
       "0  Prezado Cliente, para que possamos verificar o...  \n",
       "1  Caro cliente, Conforme contato realizado atrav...  \n",
       "2  Prezada Sra. Vitoria Realizamos tentativa de c...  \n",
       "3  Prezada Sra. Juliana Realizamos tentativa de c...  \n",
       "4  Contatamos o responsável pela manifestação no ...  "
      ]
     },
     "execution_count": 120,
     "metadata": {},
     "output_type": "execute_result"
    }
   ],
   "source": [
    "claims.head()"
   ]
  },
  {
   "cell_type": "markdown",
   "metadata": {},
   "source": [
    "Analisando tipos de dados das colunas."
   ]
  },
  {
   "cell_type": "code",
   "execution_count": 121,
   "metadata": {},
   "outputs": [
    {
     "name": "stdout",
     "output_type": "stream",
     "text": [
      "<class 'pandas.core.frame.DataFrame'>\n",
      "RangeIndex: 378574 entries, 0 to 378573\n",
      "Data columns (total 6 columns):\n",
      " #   Column            Non-Null Count   Dtype         \n",
      "---  ------            --------------   -----         \n",
      " 0   company_name      378574 non-null  object        \n",
      " 1   date              378574 non-null  datetime64[ns]\n",
      " 2   uf                378574 non-null  object        \n",
      " 3   city              378574 non-null  object        \n",
      " 4   customer_claim    378574 non-null  object        \n",
      " 5   company_response  375107 non-null  object        \n",
      "dtypes: datetime64[ns](1), object(5)\n",
      "memory usage: 17.3+ MB\n"
     ]
    }
   ],
   "source": [
    "claims.info()"
   ]
  },
  {
   "cell_type": "markdown",
   "metadata": {},
   "source": [
    "Salvando todo o conjunto de dados tratado e transformado em parquet."
   ]
  },
  {
   "cell_type": "code",
   "execution_count": 124,
   "metadata": {},
   "outputs": [],
   "source": [
    "claims.to_parquet(\n",
    "    path='../dataset/trusted/claims.parquet.snappy',\n",
    "    compression='snappy',\n",
    "    index=True,\n",
    ")"
   ]
  },
  {
   "cell_type": "markdown",
   "metadata": {},
   "source": [
    "Salvando amostra do conjunto de dados tratado e transformado em parquet."
   ]
  },
  {
   "cell_type": "code",
   "execution_count": 128,
   "metadata": {},
   "outputs": [],
   "source": [
    "claims.sample(100).to_parquet(\n",
    "    path='../dataset/trusted/sample_claims.parquet.snappy',\n",
    "    compression='snappy',\n",
    "    index=True,\n",
    ")"
   ]
  }
 ],
 "metadata": {
  "kernelspec": {
   "display_name": "eEDB-002-2024-3",
   "language": "python",
   "name": "python3"
  },
  "language_info": {
   "codemirror_mode": {
    "name": "ipython",
    "version": 3
   },
   "file_extension": ".py",
   "mimetype": "text/x-python",
   "name": "python",
   "nbconvert_exporter": "python",
   "pygments_lexer": "ipython3",
   "version": "3.12.5"
  }
 },
 "nbformat": 4,
 "nbformat_minor": 2
}
