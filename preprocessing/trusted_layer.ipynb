{
 "cells": [
  {
   "cell_type": "markdown",
   "metadata": {},
   "source": [
    "# Camada trusted\n",
    "## Criação de características relevantes"
   ]
  },
  {
   "cell_type": "markdown",
   "metadata": {},
   "source": [
    "Importando biblotecas necessárias"
   ]
  },
  {
   "cell_type": "code",
   "execution_count": 1,
   "metadata": {},
   "outputs": [],
   "source": [
    "import pandas as pd"
   ]
  },
  {
   "cell_type": "markdown",
   "metadata": {},
   "source": [
    "lendo base de dados original com reclamações do consumidor.gov em formato csv."
   ]
  },
  {
   "cell_type": "code",
   "execution_count": 2,
   "metadata": {},
   "outputs": [],
   "source": [
    "claims = pd.read_csv(\n",
    "    filepath_or_buffer='../dataset/raw/consumidor_gov.csv',\n",
    "    delimiter=',',\n",
    "    quotechar='\"',\n",
    "    header=0,\n",
    "    names=[\n",
    "        'company_name',\n",
    "        'date',\n",
    "        'uf',\n",
    "        'city',\n",
    "        'customer_claim',\n",
    "        'company_response'\n",
    "    ],\n",
    ")"
   ]
  },
  {
   "cell_type": "markdown",
   "metadata": {},
   "source": [
    "Convertendo coluna `date` do tipo _string_ para o tipo _date_."
   ]
  },
  {
   "cell_type": "code",
   "execution_count": 3,
   "metadata": {},
   "outputs": [],
   "source": [
    "claims['date'] = claims['date'].astype('datetime64[ns]')"
   ]
  },
  {
   "cell_type": "markdown",
   "metadata": {},
   "source": [
    "Removendo caracteres especias (`\\n`, `\\r`, `\\t`) de início e fim de texto para as colunas `customer_claim` e `company_response`."
   ]
  },
  {
   "cell_type": "code",
   "execution_count": 4,
   "metadata": {},
   "outputs": [],
   "source": [
    "claims['customer_claim'] = claims['customer_claim'].apply(lambda text: text.strip())\n",
    "claims['company_response'] = claims['company_response'].apply(lambda text: text.strip())"
   ]
  },
  {
   "cell_type": "markdown",
   "metadata": {},
   "source": [
    "Substituindo caracteres especiais (`\\n`, `\\r`, `\\t`) no meio do texto por espaço vazio para as colunas `customer_claim` e `company_response`."
   ]
  },
  {
   "cell_type": "code",
   "execution_count": 5,
   "metadata": {},
   "outputs": [],
   "source": [
    "claims['customer_claim'] = claims['customer_claim'].str.replace(\n",
    "    pat='[\\n\\r\\t]+',\n",
    "    repl=' ',\n",
    "    regex=True\n",
    ")"
   ]
  },
  {
   "cell_type": "code",
   "execution_count": 6,
   "metadata": {},
   "outputs": [],
   "source": [
    "claims['company_response'] = claims['company_response'].str.replace(\n",
    "    pat='[\\n\\r\\t]+',\n",
    "    repl=' ',\n",
    "    regex=True\n",
    ")"
   ]
  },
  {
   "cell_type": "markdown",
   "metadata": {},
   "source": [
    "Explicitando reclamações sem resposta com valor `None`."
   ]
  },
  {
   "cell_type": "code",
   "execution_count": 7,
   "metadata": {},
   "outputs": [],
   "source": [
    "claims['company_response'] =  claims['company_response'].replace({'<não respondido pela empresa>': None})"
   ]
  },
  {
   "cell_type": "markdown",
   "metadata": {},
   "source": [
    "Removendo índice original do arquivo csv."
   ]
  },
  {
   "cell_type": "code",
   "execution_count": 8,
   "metadata": {},
   "outputs": [],
   "source": [
    "claims.reset_index(drop=True, inplace=True)"
   ]
  },
  {
   "cell_type": "markdown",
   "metadata": {},
   "source": [
    "Visualizando $5$ primeiros registros."
   ]
  },
  {
   "cell_type": "code",
   "execution_count": 10,
   "metadata": {},
   "outputs": [
    {
     "data": {
      "text/html": [
       "<div>\n",
       "<style scoped>\n",
       "    .dataframe tbody tr th:only-of-type {\n",
       "        vertical-align: middle;\n",
       "    }\n",
       "\n",
       "    .dataframe tbody tr th {\n",
       "        vertical-align: top;\n",
       "    }\n",
       "\n",
       "    .dataframe thead th {\n",
       "        text-align: right;\n",
       "    }\n",
       "</style>\n",
       "<table border=\"1\" class=\"dataframe\">\n",
       "  <thead>\n",
       "    <tr style=\"text-align: right;\">\n",
       "      <th></th>\n",
       "      <th>company_name</th>\n",
       "      <th>date</th>\n",
       "      <th>uf</th>\n",
       "      <th>city</th>\n",
       "      <th>customer_claim</th>\n",
       "      <th>company_response</th>\n",
       "    </tr>\n",
       "  </thead>\n",
       "  <tbody>\n",
       "    <tr>\n",
       "      <th>0</th>\n",
       "      <td>Correios</td>\n",
       "      <td>2021-04-13</td>\n",
       "      <td>MG</td>\n",
       "      <td>São João Del Rei</td>\n",
       "      <td>Boa tarde ! No dia 08/04/2021, por volta das 1...</td>\n",
       "      <td>Prezado Cliente, para que possamos verificar o...</td>\n",
       "    </tr>\n",
       "    <tr>\n",
       "      <th>1</th>\n",
       "      <td>Samsung</td>\n",
       "      <td>2021-04-25</td>\n",
       "      <td>MG</td>\n",
       "      <td>Belo Horizonte</td>\n",
       "      <td>Fui realizar essa ultima atualização do androi...</td>\n",
       "      <td>Caro cliente,   Conforme contato realizado atr...</td>\n",
       "    </tr>\n",
       "    <tr>\n",
       "      <th>2</th>\n",
       "      <td>Vivo - Telefônica</td>\n",
       "      <td>2021-04-14</td>\n",
       "      <td>MG</td>\n",
       "      <td>Caratinga</td>\n",
       "      <td>Ao contatar a empresa, solicitei a 2ª via de c...</td>\n",
       "      <td>Prezada Sra. Vitoria Realizamos tentativa de c...</td>\n",
       "    </tr>\n",
       "    <tr>\n",
       "      <th>3</th>\n",
       "      <td>Vivo - Telefônica</td>\n",
       "      <td>2021-04-13</td>\n",
       "      <td>MG</td>\n",
       "      <td>Carmópolis de Minas</td>\n",
       "      <td>Fiz uma reclamação anteriormente a respeito de...</td>\n",
       "      <td>Prezada Sra. Juliana Realizamos tentativa de c...</td>\n",
       "    </tr>\n",
       "    <tr>\n",
       "      <th>4</th>\n",
       "      <td>Vivo - Telefônica</td>\n",
       "      <td>2021-04-14</td>\n",
       "      <td>MG</td>\n",
       "      <td>Santa Bárbara do Leste</td>\n",
       "      <td>Solicitei a Vivo plano para o número (33) XXXX...</td>\n",
       "      <td>Contatamos o responsável pela manifestação no ...</td>\n",
       "    </tr>\n",
       "  </tbody>\n",
       "</table>\n",
       "</div>"
      ],
      "text/plain": [
       "        company_name       date  uf                    city  \\\n",
       "0           Correios 2021-04-13  MG        São João Del Rei   \n",
       "1            Samsung 2021-04-25  MG          Belo Horizonte   \n",
       "2  Vivo - Telefônica 2021-04-14  MG               Caratinga   \n",
       "3  Vivo - Telefônica 2021-04-13  MG     Carmópolis de Minas   \n",
       "4  Vivo - Telefônica 2021-04-14  MG  Santa Bárbara do Leste   \n",
       "\n",
       "                                      customer_claim  \\\n",
       "0  Boa tarde ! No dia 08/04/2021, por volta das 1...   \n",
       "1  Fui realizar essa ultima atualização do androi...   \n",
       "2  Ao contatar a empresa, solicitei a 2ª via de c...   \n",
       "3  Fiz uma reclamação anteriormente a respeito de...   \n",
       "4  Solicitei a Vivo plano para o número (33) XXXX...   \n",
       "\n",
       "                                    company_response  \n",
       "0  Prezado Cliente, para que possamos verificar o...  \n",
       "1  Caro cliente,   Conforme contato realizado atr...  \n",
       "2  Prezada Sra. Vitoria Realizamos tentativa de c...  \n",
       "3  Prezada Sra. Juliana Realizamos tentativa de c...  \n",
       "4  Contatamos o responsável pela manifestação no ...  "
      ]
     },
     "execution_count": 10,
     "metadata": {},
     "output_type": "execute_result"
    }
   ],
   "source": [
    "claims.head()"
   ]
  },
  {
   "cell_type": "markdown",
   "metadata": {},
   "source": [
    "Analisando tipos de dados das colunas."
   ]
  },
  {
   "cell_type": "code",
   "execution_count": 11,
   "metadata": {},
   "outputs": [
    {
     "name": "stdout",
     "output_type": "stream",
     "text": [
      "<class 'pandas.core.frame.DataFrame'>\n",
      "RangeIndex: 378574 entries, 0 to 378573\n",
      "Data columns (total 6 columns):\n",
      " #   Column            Non-Null Count   Dtype         \n",
      "---  ------            --------------   -----         \n",
      " 0   company_name      378574 non-null  object        \n",
      " 1   date              378574 non-null  datetime64[ns]\n",
      " 2   uf                378574 non-null  object        \n",
      " 3   city              378574 non-null  object        \n",
      " 4   customer_claim    378574 non-null  object        \n",
      " 5   company_response  375107 non-null  object        \n",
      "dtypes: datetime64[ns](1), object(5)\n",
      "memory usage: 17.3+ MB\n"
     ]
    }
   ],
   "source": [
    "claims.info()"
   ]
  },
  {
   "cell_type": "markdown",
   "metadata": {},
   "source": [
    "Filtrando por reclamações do segmento de telofonia fixa e móvel"
   ]
  },
  {
   "cell_type": "code",
   "execution_count": 52,
   "metadata": {},
   "outputs": [],
   "source": [
    "companies = [\n",
    "    'Claro Fixo - Embratel',\n",
    "    'Claro Celular',\n",
    "    'Oi Fixo',\n",
    "    'Oi Celular',\n",
    "    'Vivo - Telefônica (GVT)',\n",
    "    'Vivo - Telefônica',\n",
    "    'Tim',\n",
    "]\n",
    "\n",
    "companies_mask = claims['company_name'].isin(companies)"
   ]
  },
  {
   "cell_type": "code",
   "execution_count": 53,
   "metadata": {},
   "outputs": [],
   "source": [
    "telecom_seg_claims =  claims.loc[companies_mask]"
   ]
  },
  {
   "cell_type": "markdown",
   "metadata": {},
   "source": [
    "Filtrando por período de tempo específico"
   ]
  },
  {
   "cell_type": "code",
   "execution_count": 54,
   "metadata": {},
   "outputs": [],
   "source": [
    "start_date = '2020-01-01'\n",
    "end_date = '2020-12-31'\n",
    "\n",
    "date_mask = (claims['date'] >= start_date) & (claims['date'] <= end_date)"
   ]
  },
  {
   "cell_type": "code",
   "execution_count": 55,
   "metadata": {},
   "outputs": [],
   "source": [
    "telecom_pandemic_claims =  telecom_seg_claims.loc[date_mask]"
   ]
  },
  {
   "cell_type": "markdown",
   "metadata": {},
   "source": [
    "Visualizando dados"
   ]
  },
  {
   "cell_type": "code",
   "execution_count": 56,
   "metadata": {},
   "outputs": [
    {
     "data": {
      "text/html": [
       "<div>\n",
       "<style scoped>\n",
       "    .dataframe tbody tr th:only-of-type {\n",
       "        vertical-align: middle;\n",
       "    }\n",
       "\n",
       "    .dataframe tbody tr th {\n",
       "        vertical-align: top;\n",
       "    }\n",
       "\n",
       "    .dataframe thead th {\n",
       "        text-align: right;\n",
       "    }\n",
       "</style>\n",
       "<table border=\"1\" class=\"dataframe\">\n",
       "  <thead>\n",
       "    <tr style=\"text-align: right;\">\n",
       "      <th></th>\n",
       "      <th>company_name</th>\n",
       "      <th>date</th>\n",
       "      <th>uf</th>\n",
       "      <th>city</th>\n",
       "      <th>customer_claim</th>\n",
       "      <th>company_response</th>\n",
       "    </tr>\n",
       "  </thead>\n",
       "  <tbody>\n",
       "    <tr>\n",
       "      <th>42907</th>\n",
       "      <td>Vivo - Telefônica</td>\n",
       "      <td>2020-12-23</td>\n",
       "      <td>MG</td>\n",
       "      <td>Belo Horizonte</td>\n",
       "      <td>O TELEFONE ACIMA CITADO ESTAVA LIGADO À TIM. F...</td>\n",
       "      <td>Curitiba, 13 de Dezembro de 2020.       Protoc...</td>\n",
       "    </tr>\n",
       "    <tr>\n",
       "      <th>43118</th>\n",
       "      <td>Tim</td>\n",
       "      <td>2020-12-30</td>\n",
       "      <td>MG</td>\n",
       "      <td>Belo Horizonte</td>\n",
       "      <td>Bom dia, Recebi ontem, 29/12/2020, ligação do ...</td>\n",
       "      <td>Prezado Guilherme, boa tarde!  Em atenção à su...</td>\n",
       "    </tr>\n",
       "    <tr>\n",
       "      <th>43122</th>\n",
       "      <td>Tim</td>\n",
       "      <td>2020-12-31</td>\n",
       "      <td>MG</td>\n",
       "      <td>Governador Valadares</td>\n",
       "      <td>Usei os canais digitais para migrar meu plano ...</td>\n",
       "      <td>Prezado cliente  Sua demanda foi concluída no ...</td>\n",
       "    </tr>\n",
       "    <tr>\n",
       "      <th>43123</th>\n",
       "      <td>Tim</td>\n",
       "      <td>2020-12-30</td>\n",
       "      <td>MG</td>\n",
       "      <td>Juiz de Fora</td>\n",
       "      <td>O plano foi cancelado no dia 26/11/2020 e poss...</td>\n",
       "      <td>\"Prezado Jeferson, Em atenção à sua demanda pe...</td>\n",
       "    </tr>\n",
       "    <tr>\n",
       "      <th>43124</th>\n",
       "      <td>Tim</td>\n",
       "      <td>2020-12-30</td>\n",
       "      <td>MG</td>\n",
       "      <td>Lagoa Santa</td>\n",
       "      <td>Trabalho em uma região de Lagoa Santa/MG que o...</td>\n",
       "      <td>Prezado(a) Vinicius ! Em virtude do prazo esti...</td>\n",
       "    </tr>\n",
       "  </tbody>\n",
       "</table>\n",
       "</div>"
      ],
      "text/plain": [
       "            company_name       date  uf                  city  \\\n",
       "42907  Vivo - Telefônica 2020-12-23  MG        Belo Horizonte   \n",
       "43118                Tim 2020-12-30  MG        Belo Horizonte   \n",
       "43122                Tim 2020-12-31  MG  Governador Valadares   \n",
       "43123                Tim 2020-12-30  MG          Juiz de Fora   \n",
       "43124                Tim 2020-12-30  MG           Lagoa Santa   \n",
       "\n",
       "                                          customer_claim  \\\n",
       "42907  O TELEFONE ACIMA CITADO ESTAVA LIGADO À TIM. F...   \n",
       "43118  Bom dia, Recebi ontem, 29/12/2020, ligação do ...   \n",
       "43122  Usei os canais digitais para migrar meu plano ...   \n",
       "43123  O plano foi cancelado no dia 26/11/2020 e poss...   \n",
       "43124  Trabalho em uma região de Lagoa Santa/MG que o...   \n",
       "\n",
       "                                        company_response  \n",
       "42907  Curitiba, 13 de Dezembro de 2020.       Protoc...  \n",
       "43118  Prezado Guilherme, boa tarde!  Em atenção à su...  \n",
       "43122  Prezado cliente  Sua demanda foi concluída no ...  \n",
       "43123  \"Prezado Jeferson, Em atenção à sua demanda pe...  \n",
       "43124  Prezado(a) Vinicius ! Em virtude do prazo esti...  "
      ]
     },
     "execution_count": 56,
     "metadata": {},
     "output_type": "execute_result"
    }
   ],
   "source": [
    "telecom_pandemic_claims.head()"
   ]
  },
  {
   "cell_type": "markdown",
   "metadata": {},
   "source": [
    "Salvando todo o conjunto de dados tratado e transformado em parquet."
   ]
  },
  {
   "cell_type": "code",
   "execution_count": 65,
   "metadata": {},
   "outputs": [],
   "source": [
    "telecom_pandemic_claims.to_parquet(\n",
    "    path='../dataset/trusted/trzd_telecom_pandemic_claims.parquet.snappy',\n",
    "    compression='snappy',\n",
    "    index=True,\n",
    ")"
   ]
  },
  {
   "cell_type": "code",
   "execution_count": null,
   "metadata": {},
   "outputs": [],
   "source": []
  }
 ],
 "metadata": {
  "kernelspec": {
   "display_name": "eEDB-002-2024-3",
   "language": "python",
   "name": "python3"
  },
  "language_info": {
   "codemirror_mode": {
    "name": "ipython",
    "version": 3
   },
   "file_extension": ".py",
   "mimetype": "text/x-python",
   "name": "python",
   "nbconvert_exporter": "python",
   "pygments_lexer": "ipython3",
   "version": "3.9.19"
  }
 },
 "nbformat": 4,
 "nbformat_minor": 2
}
