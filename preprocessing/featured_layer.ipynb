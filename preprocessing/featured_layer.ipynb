{
 "cells": [
  {
   "cell_type": "markdown",
   "metadata": {},
   "source": [
    "Importando bibliotecas"
   ]
  },
  {
   "cell_type": "code",
   "execution_count": 1,
   "metadata": {},
   "outputs": [],
   "source": [
    "from gensim.models.doc2vec import Doc2Vec, TaggedDocument\n",
    "from sklearn.model_selection import train_test_split\n",
    "\n",
    "import pandas as pd\n",
    "import collections\n",
    "import logging\n",
    "import random"
   ]
  },
  {
   "cell_type": "markdown",
   "metadata": {},
   "source": [
    "Configurando nível de logs"
   ]
  },
  {
   "cell_type": "code",
   "execution_count": 2,
   "metadata": {},
   "outputs": [],
   "source": [
    "logging.basicConfig(format='%(asctime)s : %(levelname)s : %(message)s', level=logging.INFO)"
   ]
  },
  {
   "cell_type": "markdown",
   "metadata": {},
   "source": [
    "Lendo arquivos de texto"
   ]
  },
  {
   "cell_type": "code",
   "execution_count": 242,
   "metadata": {},
   "outputs": [],
   "source": [
    "frzd_olist_order_reviews = pd.read_parquet('../dataset/delivery/dlzd_olist_order_reviews.parquet.snappy')"
   ]
  },
  {
   "cell_type": "code",
   "execution_count": 243,
   "metadata": {},
   "outputs": [
    {
     "data": {
      "text/html": [
       "<div>\n",
       "<style scoped>\n",
       "    .dataframe tbody tr th:only-of-type {\n",
       "        vertical-align: middle;\n",
       "    }\n",
       "\n",
       "    .dataframe tbody tr th {\n",
       "        vertical-align: top;\n",
       "    }\n",
       "\n",
       "    .dataframe thead th {\n",
       "        text-align: right;\n",
       "    }\n",
       "</style>\n",
       "<table border=\"1\" class=\"dataframe\">\n",
       "  <thead>\n",
       "    <tr style=\"text-align: right;\">\n",
       "      <th></th>\n",
       "      <th>review_id</th>\n",
       "      <th>order_id</th>\n",
       "      <th>review_score</th>\n",
       "      <th>review_comment_title</th>\n",
       "      <th>review_comment_message</th>\n",
       "      <th>review_comment_title_and_message</th>\n",
       "      <th>review_creation_date</th>\n",
       "      <th>review_answer_timestamp</th>\n",
       "    </tr>\n",
       "  </thead>\n",
       "  <tbody>\n",
       "    <tr>\n",
       "      <th>0</th>\n",
       "      <td>f7c4243c7fe1938f181bec41a392bdeb</td>\n",
       "      <td>8e6bfb81e283fa7e4f11123a3fb894f1</td>\n",
       "      <td>5</td>\n",
       "      <td>[]</td>\n",
       "      <td>[parabens, lojas, lannister, adorei, comprar, ...</td>\n",
       "      <td>[parabens, lojas, lannister, adorei, comprar, ...</td>\n",
       "      <td>2018-03-01</td>\n",
       "      <td>2018-03-02 10:26:53</td>\n",
       "    </tr>\n",
       "    <tr>\n",
       "      <th>1</th>\n",
       "      <td>8670d52e15e00043ae7de4c01cc2fe06</td>\n",
       "      <td>b9bf720beb4ab3728760088589c62129</td>\n",
       "      <td>4</td>\n",
       "      <td>[recomendo]</td>\n",
       "      <td>[aparelho, eficiente, no, site, marca, do, apa...</td>\n",
       "      <td>[recomendo, aparelho, eficiente, no, site, mar...</td>\n",
       "      <td>2018-05-22</td>\n",
       "      <td>2018-05-23 16:45:47</td>\n",
       "    </tr>\n",
       "    <tr>\n",
       "      <th>2</th>\n",
       "      <td>4b49719c8a200003f700d3d986ea1a19</td>\n",
       "      <td>9d6f15f95d01e79bd1349cc208361f09</td>\n",
       "      <td>4</td>\n",
       "      <td>[]</td>\n",
       "      <td>[mas, um, pouco, travando, pelo, valor, ta, boa]</td>\n",
       "      <td>[mas, um, pouco, travando, pelo, valor, ta, boa]</td>\n",
       "      <td>2018-02-16</td>\n",
       "      <td>2018-02-20 10:52:22</td>\n",
       "    </tr>\n",
       "    <tr>\n",
       "      <th>3</th>\n",
       "      <td>d21bbc789670eab777d27372ab9094cc</td>\n",
       "      <td>4fc44d78867142c627497b60a7e0228a</td>\n",
       "      <td>5</td>\n",
       "      <td>[otimo]</td>\n",
       "      <td>[loja, nota]</td>\n",
       "      <td>[otimo, loja, nota]</td>\n",
       "      <td>2018-07-10</td>\n",
       "      <td>2018-07-11 14:10:25</td>\n",
       "    </tr>\n",
       "    <tr>\n",
       "      <th>4</th>\n",
       "      <td>0e0190b9db53b689b285d3f3916f8441</td>\n",
       "      <td>79832b7cb59ac6f887088ffd686e1d5e</td>\n",
       "      <td>5</td>\n",
       "      <td>[]</td>\n",
       "      <td>[obrigado, pela, atencao, amim, dispensada]</td>\n",
       "      <td>[obrigado, pela, atencao, amim, dispensada]</td>\n",
       "      <td>2017-12-01</td>\n",
       "      <td>2017-12-09 22:58:58</td>\n",
       "    </tr>\n",
       "  </tbody>\n",
       "</table>\n",
       "</div>"
      ],
      "text/plain": [
       "                          review_id                          order_id  \\\n",
       "0  f7c4243c7fe1938f181bec41a392bdeb  8e6bfb81e283fa7e4f11123a3fb894f1   \n",
       "1  8670d52e15e00043ae7de4c01cc2fe06  b9bf720beb4ab3728760088589c62129   \n",
       "2  4b49719c8a200003f700d3d986ea1a19  9d6f15f95d01e79bd1349cc208361f09   \n",
       "3  d21bbc789670eab777d27372ab9094cc  4fc44d78867142c627497b60a7e0228a   \n",
       "4  0e0190b9db53b689b285d3f3916f8441  79832b7cb59ac6f887088ffd686e1d5e   \n",
       "\n",
       "   review_score review_comment_title  \\\n",
       "0             5                   []   \n",
       "1             4          [recomendo]   \n",
       "2             4                   []   \n",
       "3             5              [otimo]   \n",
       "4             5                   []   \n",
       "\n",
       "                              review_comment_message  \\\n",
       "0  [parabens, lojas, lannister, adorei, comprar, ...   \n",
       "1  [aparelho, eficiente, no, site, marca, do, apa...   \n",
       "2   [mas, um, pouco, travando, pelo, valor, ta, boa]   \n",
       "3                                       [loja, nota]   \n",
       "4        [obrigado, pela, atencao, amim, dispensada]   \n",
       "\n",
       "                    review_comment_title_and_message review_creation_date  \\\n",
       "0  [parabens, lojas, lannister, adorei, comprar, ...           2018-03-01   \n",
       "1  [recomendo, aparelho, eficiente, no, site, mar...           2018-05-22   \n",
       "2   [mas, um, pouco, travando, pelo, valor, ta, boa]           2018-02-16   \n",
       "3                                [otimo, loja, nota]           2018-07-10   \n",
       "4        [obrigado, pela, atencao, amim, dispensada]           2017-12-01   \n",
       "\n",
       "  review_answer_timestamp  \n",
       "0     2018-03-02 10:26:53  \n",
       "1     2018-05-23 16:45:47  \n",
       "2     2018-02-20 10:52:22  \n",
       "3     2018-07-11 14:10:25  \n",
       "4     2017-12-09 22:58:58  "
      ]
     },
     "execution_count": 243,
     "metadata": {},
     "output_type": "execute_result"
    }
   ],
   "source": [
    "frzd_olist_order_reviews.head()"
   ]
  },
  {
   "cell_type": "code",
   "execution_count": 244,
   "metadata": {},
   "outputs": [],
   "source": [
    "frzd_olist_order_reviews.set_index('review_id', inplace=True)"
   ]
  },
  {
   "cell_type": "markdown",
   "metadata": {},
   "source": [
    "Dividindo entre conjunto de treino e teste de forma stratificada"
   ]
  },
  {
   "cell_type": "code",
   "execution_count": 270,
   "metadata": {},
   "outputs": [],
   "source": [
    "X = frzd_olist_order_reviews.loc[:, ['review_comment_title_and_message', 'review_score']]\n",
    "y = frzd_olist_order_reviews.loc[:, ['review_score']]"
   ]
  },
  {
   "cell_type": "code",
   "execution_count": 271,
   "metadata": {},
   "outputs": [],
   "source": [
    "X_train, X_test, _, _ = train_test_split(\n",
    "    X, y, test_size=0.2, stratify=y, random_state=51\n",
    ")"
   ]
  },
  {
   "cell_type": "markdown",
   "metadata": {},
   "source": [
    "Criando tag para armazenar marcar cada documento."
   ]
  },
  {
   "cell_type": "code",
   "execution_count": 272,
   "metadata": {},
   "outputs": [],
   "source": [
    "train_documents = []\n",
    "\n",
    "for index, data in X_train.iterrows():\n",
    "    train_documents.append(TaggedDocument(data['review_comment_title_and_message'].tolist(), [data['review_score']]))"
   ]
  },
  {
   "cell_type": "code",
   "execution_count": 273,
   "metadata": {},
   "outputs": [],
   "source": [
    "test_documents = []\n",
    "\n",
    "for index, data in X_test.iterrows():\n",
    "    test_documents.append(TaggedDocument(data['review_comment_title_and_message'].tolist(), [data['review_score']]))"
   ]
  },
  {
   "cell_type": "markdown",
   "metadata": {},
   "source": [
    "Definindo modelo Doc2vec"
   ]
  },
  {
   "cell_type": "code",
   "execution_count": 274,
   "metadata": {},
   "outputs": [
    {
     "name": "stderr",
     "output_type": "stream",
     "text": [
      "2024-09-22 14:18:54,546 : INFO : using concatenative 6000-dimensional layer1\n",
      "2024-09-22 14:18:54,548 : INFO : Doc2Vec lifecycle event {'params': 'Doc2Vec<dm/c,d400,n5,w7,mc3,s1e-05,t8>', 'datetime': '2024-09-22T14:18:54.548398', 'gensim': '4.3.3', 'python': '3.9.19 (main, May  6 2024, 20:12:36) [MSC v.1916 64 bit (AMD64)]', 'platform': 'Windows-10-10.0.22631-SP0', 'event': 'created'}\n"
     ]
    }
   ],
   "source": [
    "model = Doc2Vec(\n",
    "    vector_size=400, # tamanho do vetor de embedding\n",
    "    min_count=3, # quantidade mínima de repetições palavras para entrarem no treinamento \n",
    "    sample=10**-5, # frequência teórica para ponderar palavras muito frequêntes\n",
    "    window=7, # número máximo de palavras utilizadas para prever a palavra alvo\n",
    "    shrink_windows=True, # abilitando troca dinâmica da janela de 1 a 7 palavras\n",
    "    hs=0, # utilizando amostragem negativa para acelarar o treinamento\n",
    "    negative=5, # determina que 20 palavras aleatórias serão utilizadas para treinar a palavra predita\n",
    "    dm=1, # usando modelo PV-DM\n",
    "    dm_concat=1, # concatenando vetor de parágrafo com de palavras\n",
    "    dbow_words=1, # treinando também vetor de palavras word2vec\n",
    "    workers=8, # numero sde cores utilizados no paralelismo\n",
    "    seed=51, # fixando a aleatoriada para deixar o modelo reprodutível\n",
    ")"
   ]
  },
  {
   "cell_type": "markdown",
   "metadata": {},
   "source": [
    "Criando vocabulário"
   ]
  },
  {
   "cell_type": "code",
   "execution_count": 275,
   "metadata": {},
   "outputs": [
    {
     "name": "stderr",
     "output_type": "stream",
     "text": [
      "2024-09-22 14:18:57,366 : INFO : collecting all words and their counts\n",
      "2024-09-22 14:18:57,369 : INFO : PROGRESS: at example #0, processed 0 words (0 words/s), 0 word types, 0 tags\n",
      "2024-09-22 14:18:57,416 : INFO : PROGRESS: at example #10000, processed 83266 words (1884477 words/s), 6819 word types, 0 tags\n",
      "2024-09-22 14:18:57,455 : INFO : collected 9668 word types and 6 unique tags from a corpus of 18721 examples and 157562 words\n",
      "2024-09-22 14:18:57,456 : INFO : Creating a fresh vocabulary\n",
      "2024-09-22 14:18:57,486 : INFO : Doc2Vec lifecycle event {'msg': 'effective_min_count=3 retains 3297 unique words (34.10% of original 9668, drops 6371)', 'datetime': '2024-09-22T14:18:57.486002', 'gensim': '4.3.3', 'python': '3.9.19 (main, May  6 2024, 20:12:36) [MSC v.1916 64 bit (AMD64)]', 'platform': 'Windows-10-10.0.22631-SP0', 'event': 'prepare_vocab'}\n",
      "2024-09-22 14:18:57,489 : INFO : Doc2Vec lifecycle event {'msg': 'effective_min_count=3 leaves 149855 word corpus (95.11% of original 157562, drops 7707)', 'datetime': '2024-09-22T14:18:57.489000', 'gensim': '4.3.3', 'python': '3.9.19 (main, May  6 2024, 20:12:36) [MSC v.1916 64 bit (AMD64)]', 'platform': 'Windows-10-10.0.22631-SP0', 'event': 'prepare_vocab'}\n",
      "2024-09-22 14:18:57,540 : INFO : deleting the raw counts dictionary of 9668 items\n",
      "2024-09-22 14:18:57,542 : INFO : sample=1e-05 downsamples 2657 most-common words\n",
      "2024-09-22 14:18:57,544 : INFO : Doc2Vec lifecycle event {'msg': 'downsampling leaves estimated 21935.949367374047 word corpus (14.6%% of prior 149855)', 'datetime': '2024-09-22T14:18:57.544647', 'gensim': '4.3.3', 'python': '3.9.19 (main, May  6 2024, 20:12:36) [MSC v.1916 64 bit (AMD64)]', 'platform': 'Windows-10-10.0.22631-SP0', 'event': 'prepare_vocab'}\n",
      "2024-09-22 14:18:57,585 : INFO : estimated required memory for 3297 words and 400 dimensions: 86062500 bytes\n",
      "2024-09-22 14:18:57,586 : INFO : resetting layer weights\n"
     ]
    }
   ],
   "source": [
    "model.build_vocab(train_documents)"
   ]
  },
  {
   "cell_type": "code",
   "execution_count": 276,
   "metadata": {},
   "outputs": [
    {
     "name": "stderr",
     "output_type": "stream",
     "text": [
      "2024-09-22 14:18:59,575 : INFO : Doc2Vec lifecycle event {'msg': 'training model with 8 workers on 3298 vocabulary and 6000 features, using sg=0 hs=0 sample=1e-05 negative=5 window=7 shrink_windows=True', 'datetime': '2024-09-22T14:18:59.575775', 'gensim': '4.3.3', 'python': '3.9.19 (main, May  6 2024, 20:12:36) [MSC v.1916 64 bit (AMD64)]', 'platform': 'Windows-10-10.0.22631-SP0', 'event': 'train'}\n",
      "2024-09-22 14:19:00,588 : INFO : EPOCH 0: training on 157562 raw words (40721 effective words) took 1.0s, 41701 effective words/s\n",
      "2024-09-22 14:19:01,338 : INFO : EPOCH 1: training on 157562 raw words (40669 effective words) took 0.7s, 56200 effective words/s\n",
      "2024-09-22 14:19:02,101 : INFO : EPOCH 2: training on 157562 raw words (40706 effective words) took 0.8s, 54226 effective words/s\n",
      "2024-09-22 14:19:02,892 : INFO : EPOCH 3: training on 157562 raw words (40549 effective words) took 0.8s, 52793 effective words/s\n",
      "2024-09-22 14:19:03,648 : INFO : EPOCH 4: training on 157562 raw words (40721 effective words) took 0.7s, 55527 effective words/s\n",
      "2024-09-22 14:19:04,395 : INFO : EPOCH 5: training on 157562 raw words (40861 effective words) took 0.7s, 56545 effective words/s\n",
      "2024-09-22 14:19:05,089 : INFO : EPOCH 6: training on 157562 raw words (40605 effective words) took 0.7s, 60464 effective words/s\n",
      "2024-09-22 14:19:05,765 : INFO : EPOCH 7: training on 157562 raw words (40608 effective words) took 0.7s, 61227 effective words/s\n",
      "2024-09-22 14:19:06,438 : INFO : EPOCH 8: training on 157562 raw words (40471 effective words) took 0.6s, 62417 effective words/s\n",
      "2024-09-22 14:19:07,118 : INFO : EPOCH 9: training on 157562 raw words (40757 effective words) took 0.7s, 61853 effective words/s\n",
      "2024-09-22 14:19:07,827 : INFO : EPOCH 10: training on 157562 raw words (40561 effective words) took 0.7s, 59328 effective words/s\n",
      "2024-09-22 14:19:08,601 : INFO : EPOCH 11: training on 157562 raw words (40365 effective words) took 0.8s, 53269 effective words/s\n",
      "2024-09-22 14:19:09,421 : INFO : EPOCH 12: training on 157562 raw words (40416 effective words) took 0.8s, 50383 effective words/s\n",
      "2024-09-22 14:19:10,110 : INFO : EPOCH 13: training on 157562 raw words (40900 effective words) took 0.7s, 61585 effective words/s\n",
      "2024-09-22 14:19:10,880 : INFO : EPOCH 14: training on 157562 raw words (40608 effective words) took 0.8s, 54100 effective words/s\n",
      "2024-09-22 14:19:11,640 : INFO : EPOCH 15: training on 157562 raw words (40677 effective words) took 0.7s, 55269 effective words/s\n",
      "2024-09-22 14:19:12,408 : INFO : EPOCH 16: training on 157562 raw words (40688 effective words) took 0.7s, 55104 effective words/s\n",
      "2024-09-22 14:19:13,124 : INFO : EPOCH 17: training on 157562 raw words (40863 effective words) took 0.7s, 59323 effective words/s\n",
      "2024-09-22 14:19:13,817 : INFO : EPOCH 18: training on 157562 raw words (40681 effective words) took 0.7s, 61005 effective words/s\n",
      "2024-09-22 14:19:14,634 : INFO : EPOCH 19: training on 157562 raw words (40611 effective words) took 0.8s, 50780 effective words/s\n",
      "2024-09-22 14:19:15,398 : INFO : EPOCH 20: training on 157562 raw words (40541 effective words) took 0.7s, 54744 effective words/s\n",
      "2024-09-22 14:19:16,072 : INFO : EPOCH 21: training on 157562 raw words (40494 effective words) took 0.7s, 61510 effective words/s\n",
      "2024-09-22 14:19:16,774 : INFO : EPOCH 22: training on 157562 raw words (40618 effective words) took 0.7s, 59609 effective words/s\n",
      "2024-09-22 14:19:17,460 : INFO : EPOCH 23: training on 157562 raw words (40734 effective words) took 0.7s, 61411 effective words/s\n",
      "2024-09-22 14:19:18,133 : INFO : EPOCH 24: training on 157562 raw words (40866 effective words) took 0.6s, 63193 effective words/s\n",
      "2024-09-22 14:19:18,794 : INFO : EPOCH 25: training on 157562 raw words (40819 effective words) took 0.6s, 63105 effective words/s\n",
      "2024-09-22 14:19:19,491 : INFO : EPOCH 26: training on 157562 raw words (40608 effective words) took 0.7s, 59858 effective words/s\n",
      "2024-09-22 14:19:20,242 : INFO : EPOCH 27: training on 157562 raw words (40678 effective words) took 0.7s, 55534 effective words/s\n",
      "2024-09-22 14:19:20,930 : INFO : EPOCH 28: training on 157562 raw words (40724 effective words) took 0.7s, 61329 effective words/s\n",
      "2024-09-22 14:19:21,601 : INFO : EPOCH 29: training on 157562 raw words (40478 effective words) took 0.7s, 61621 effective words/s\n",
      "2024-09-22 14:19:22,271 : INFO : EPOCH 30: training on 157562 raw words (40503 effective words) took 0.6s, 62576 effective words/s\n",
      "2024-09-22 14:19:22,941 : INFO : EPOCH 31: training on 157562 raw words (40733 effective words) took 0.7s, 62373 effective words/s\n",
      "2024-09-22 14:19:23,622 : INFO : EPOCH 32: training on 157562 raw words (40753 effective words) took 0.7s, 61143 effective words/s\n",
      "2024-09-22 14:19:24,295 : INFO : EPOCH 33: training on 157562 raw words (40496 effective words) took 0.7s, 61194 effective words/s\n",
      "2024-09-22 14:19:24,978 : INFO : EPOCH 34: training on 157562 raw words (40778 effective words) took 0.7s, 61983 effective words/s\n",
      "2024-09-22 14:19:25,689 : INFO : EPOCH 35: training on 157562 raw words (40799 effective words) took 0.7s, 59336 effective words/s\n",
      "2024-09-22 14:19:26,363 : INFO : EPOCH 36: training on 157562 raw words (40654 effective words) took 0.6s, 62789 effective words/s\n",
      "2024-09-22 14:19:27,035 : INFO : EPOCH 37: training on 157562 raw words (40666 effective words) took 0.7s, 62548 effective words/s\n",
      "2024-09-22 14:19:27,708 : INFO : EPOCH 38: training on 157562 raw words (40742 effective words) took 0.7s, 62300 effective words/s\n",
      "2024-09-22 14:19:28,379 : INFO : EPOCH 39: training on 157562 raw words (40678 effective words) took 0.6s, 62626 effective words/s\n",
      "2024-09-22 14:19:29,057 : INFO : EPOCH 40: training on 157562 raw words (40541 effective words) took 0.7s, 61578 effective words/s\n",
      "2024-09-22 14:19:29,725 : INFO : EPOCH 41: training on 157562 raw words (40643 effective words) took 0.6s, 62931 effective words/s\n",
      "2024-09-22 14:19:30,389 : INFO : EPOCH 42: training on 157562 raw words (40707 effective words) took 0.6s, 63526 effective words/s\n",
      "2024-09-22 14:19:31,034 : INFO : EPOCH 43: training on 157562 raw words (40517 effective words) took 0.6s, 65228 effective words/s\n",
      "2024-09-22 14:19:31,684 : INFO : EPOCH 44: training on 157562 raw words (40649 effective words) took 0.6s, 64793 effective words/s\n",
      "2024-09-22 14:19:32,347 : INFO : EPOCH 45: training on 157562 raw words (40662 effective words) took 0.7s, 62301 effective words/s\n",
      "2024-09-22 14:19:32,997 : INFO : EPOCH 46: training on 157562 raw words (40656 effective words) took 0.6s, 64816 effective words/s\n",
      "2024-09-22 14:19:33,659 : INFO : EPOCH 47: training on 157562 raw words (40622 effective words) took 0.6s, 63795 effective words/s\n",
      "2024-09-22 14:19:34,304 : INFO : EPOCH 48: training on 157562 raw words (40543 effective words) took 0.6s, 64443 effective words/s\n",
      "2024-09-22 14:19:34,958 : INFO : EPOCH 49: training on 157562 raw words (40518 effective words) took 0.6s, 63959 effective words/s\n",
      "2024-09-22 14:19:35,615 : INFO : EPOCH 50: training on 157562 raw words (40594 effective words) took 0.6s, 63610 effective words/s\n",
      "2024-09-22 14:19:36,258 : INFO : EPOCH 51: training on 157562 raw words (40641 effective words) took 0.6s, 65678 effective words/s\n",
      "2024-09-22 14:19:36,915 : INFO : EPOCH 52: training on 157562 raw words (40619 effective words) took 0.6s, 63969 effective words/s\n",
      "2024-09-22 14:19:37,570 : INFO : EPOCH 53: training on 157562 raw words (40762 effective words) took 0.6s, 63814 effective words/s\n",
      "2024-09-22 14:19:38,269 : INFO : EPOCH 54: training on 157562 raw words (40718 effective words) took 0.7s, 59314 effective words/s\n",
      "2024-09-22 14:19:38,959 : INFO : EPOCH 55: training on 157562 raw words (40550 effective words) took 0.7s, 59824 effective words/s\n",
      "2024-09-22 14:19:39,690 : INFO : EPOCH 56: training on 157562 raw words (40622 effective words) took 0.7s, 57018 effective words/s\n",
      "2024-09-22 14:19:40,421 : INFO : EPOCH 57: training on 157562 raw words (40701 effective words) took 0.7s, 56906 effective words/s\n",
      "2024-09-22 14:19:41,073 : INFO : EPOCH 58: training on 157562 raw words (40636 effective words) took 0.6s, 63308 effective words/s\n",
      "2024-09-22 14:19:41,722 : INFO : EPOCH 59: training on 157562 raw words (40679 effective words) took 0.6s, 64960 effective words/s\n",
      "2024-09-22 14:19:42,393 : INFO : EPOCH 60: training on 157562 raw words (40643 effective words) took 0.6s, 63463 effective words/s\n",
      "2024-09-22 14:19:43,149 : INFO : EPOCH 61: training on 157562 raw words (40475 effective words) took 0.7s, 54510 effective words/s\n",
      "2024-09-22 14:19:43,907 : INFO : EPOCH 62: training on 157562 raw words (40639 effective words) took 0.7s, 54759 effective words/s\n",
      "2024-09-22 14:19:44,569 : INFO : EPOCH 63: training on 157562 raw words (40678 effective words) took 0.6s, 63044 effective words/s\n",
      "2024-09-22 14:19:45,211 : INFO : EPOCH 64: training on 157562 raw words (40588 effective words) took 0.6s, 65476 effective words/s\n",
      "2024-09-22 14:19:45,896 : INFO : EPOCH 65: training on 157562 raw words (40746 effective words) took 0.7s, 61447 effective words/s\n",
      "2024-09-22 14:19:46,587 : INFO : EPOCH 66: training on 157562 raw words (40654 effective words) took 0.7s, 60476 effective words/s\n",
      "2024-09-22 14:19:47,343 : INFO : EPOCH 67: training on 157562 raw words (40741 effective words) took 0.7s, 55677 effective words/s\n",
      "2024-09-22 14:19:48,104 : INFO : EPOCH 68: training on 157562 raw words (40621 effective words) took 0.7s, 55115 effective words/s\n",
      "2024-09-22 14:19:48,774 : INFO : EPOCH 69: training on 157562 raw words (40668 effective words) took 0.6s, 62755 effective words/s\n",
      "2024-09-22 14:19:48,776 : INFO : Doc2Vec lifecycle event {'msg': 'training on 11029340 raw words (2845433 effective words) took 49.2s, 57838 effective words/s', 'datetime': '2024-09-22T14:19:48.776240', 'gensim': '4.3.3', 'python': '3.9.19 (main, May  6 2024, 20:12:36) [MSC v.1916 64 bit (AMD64)]', 'platform': 'Windows-10-10.0.22631-SP0', 'event': 'train'}\n"
     ]
    }
   ],
   "source": [
    "model.train(\n",
    "    train_documents,\n",
    "    total_examples=model.corpus_count,\n",
    "    epochs=70\n",
    ")"
   ]
  },
  {
   "cell_type": "markdown",
   "metadata": {},
   "source": [
    "Teste de 'sanidade', calculando similaridade de documentos em relação ao conjunto todo"
   ]
  },
  {
   "cell_type": "code",
   "execution_count": 293,
   "metadata": {},
   "outputs": [],
   "source": [
    "train_ranks = []\n",
    "train_features = []\n",
    "\n",
    "for _, record in X_train.iterrows():\n",
    "    inferred_vector = model.infer_vector(record['review_comment_title_and_message'], epochs=0)\n",
    "    train_features.append(inferred_vector)\n",
    "\n",
    "    sims = model.dv.most_similar([inferred_vector])\n",
    "    rank = [docid for docid, _ in sims].index(record['review_score'])\n",
    "    \n",
    "    train_ranks.append(rank)\n",
    "\n",
    "X_train['document_embeddings'] = train_features"
   ]
  },
  {
   "cell_type": "code",
   "execution_count": 294,
   "metadata": {},
   "outputs": [
    {
     "data": {
      "text/plain": [
       "Counter({0: 12714, 1: 3448, 2: 1023, 3: 618, 4: 496, 5: 422})"
      ]
     },
     "execution_count": 294,
     "metadata": {},
     "output_type": "execute_result"
    }
   ],
   "source": [
    "collections.Counter(train_ranks)"
   ]
  },
  {
   "cell_type": "markdown",
   "metadata": {},
   "source": [
    "12942 de 18721 avaliações (69,13 %) são similares a elas mesmas, considerando o segundo vetor mais similar (3512) são 87,89 %"
   ]
  },
  {
   "cell_type": "code",
   "execution_count": 295,
   "metadata": {},
   "outputs": [],
   "source": [
    "test_ranks = []\n",
    "test_features = []\n",
    "\n",
    "for _, record in X_test.iterrows():\n",
    "    inferred_vector = model.infer_vector(record['review_comment_title_and_message'], epochs=0)\n",
    "    test_features.append(inferred_vector)\n",
    "\n",
    "    sims = model.dv.most_similar([inferred_vector])\n",
    "    rank = [docid for docid, _ in sims].index(record['review_score'])\n",
    "    test_ranks.append(rank)\n",
    "\n",
    "X_test['document_embeddings'] = test_features"
   ]
  },
  {
   "cell_type": "code",
   "execution_count": 296,
   "metadata": {},
   "outputs": [
    {
     "data": {
      "text/plain": [
       "Counter({0: 2672, 1: 816, 4: 319, 2: 311, 5: 284, 3: 279})"
      ]
     },
     "execution_count": 296,
     "metadata": {},
     "output_type": "execute_result"
    }
   ],
   "source": [
    "collections.Counter(test_ranks)"
   ]
  },
  {
   "cell_type": "markdown",
   "metadata": {},
   "source": [
    "2698 de 4681 avaliações (57,63 %) são similares a elas mesmas, considerando o segundo vetor mais similar (840) são 75,58 %"
   ]
  },
  {
   "cell_type": "code",
   "execution_count": 298,
   "metadata": {},
   "outputs": [
    {
     "name": "stdout",
     "output_type": "stream",
     "text": [
      "Train Document (66) | tag (2): «loja alem do frete ser muito caro produto leva quase dias uteis para chegar na sua casa»\n",
      "\n",
      "SIMILAR/DISSIMILAR DOCS PER MODEL Doc2Vec<dm/c,d400,n5,w7,mc3,s1e-05,t8>:\n",
      "\n"
     ]
    },
    {
     "data": {
      "text/plain": [
       "[(2, 0.6423330307006836),\n",
       " (5, 0.3176053762435913),\n",
       " (3, 0.10236295312643051),\n",
       " (0, -0.038047101348638535),\n",
       " (1, -0.10344215482473373),\n",
       " (4, -0.6692941784858704)]"
      ]
     },
     "execution_count": 298,
     "metadata": {},
     "output_type": "execute_result"
    }
   ],
   "source": [
    "doc_id = 66\n",
    "\n",
    "inferred_vector = model.infer_vector(train_documents[doc_id].words, epochs=10)\n",
    "sims = model.dv.most_similar([inferred_vector], topn=len(model.dv))\n",
    "\n",
    "print('Train Document ({}) | tag ({}): «{}»\\n'.format(doc_id, train_documents[doc_id].tags[0], ' '.join(train_documents[doc_id].words)))\n",
    "print(u'SIMILAR/DISSIMILAR DOCS PER MODEL %s:\\n' % model)\n",
    "sims"
   ]
  },
  {
   "cell_type": "markdown",
   "metadata": {},
   "source": [
    "Testando o modelo com o conjunto de teste"
   ]
  },
  {
   "cell_type": "code",
   "execution_count": 301,
   "metadata": {},
   "outputs": [
    {
     "name": "stdout",
     "output_type": "stream",
     "text": [
      "Test Document (4421) | tag (1): «botao liga desliga nao funciona»\n",
      "\n",
      "SIMILAR/DISSIMILAR DOCS PER MODEL Doc2Vec<dm/c,d400,n5,w7,mc3,s1e-05,t8>:\n",
      "\n"
     ]
    },
    {
     "data": {
      "text/plain": [
       "[(3, 0.6133701205253601),\n",
       " (1, 0.5921914577484131),\n",
       " (0, -0.006346350070089102),\n",
       " (2, -0.01563362032175064),\n",
       " (5, -0.40768080949783325),\n",
       " (4, -0.5910491347312927)]"
      ]
     },
     "execution_count": 301,
     "metadata": {},
     "output_type": "execute_result"
    }
   ],
   "source": [
    "doc_id = random.randint(0, len(test_documents) - 1)\n",
    "\n",
    "inferred_vector = model.infer_vector(test_documents[doc_id].words, epochs=20)\n",
    "sims = model.dv.most_similar([inferred_vector], topn=len(model.dv))\n",
    "\n",
    "print('Test Document ({}) | tag ({}): «{}»\\n'.format(doc_id, test_documents[doc_id].tags[0], ' '.join(test_documents[doc_id].words)))\n",
    "print(u'SIMILAR/DISSIMILAR DOCS PER MODEL %s:\\n' % model)\n",
    "sims"
   ]
  },
  {
   "cell_type": "markdown",
   "metadata": {},
   "source": [
    "Busca semântica"
   ]
  },
  {
   "cell_type": "code",
   "execution_count": 302,
   "metadata": {},
   "outputs": [
    {
     "data": {
      "text/plain": [
       "[(1, 0.8174888491630554),\n",
       " (2, 0.24454033374786377),\n",
       " (3, 0.08240251988172531),\n",
       " (0, 0.0015772177139297128),\n",
       " (4, -0.41590118408203125),\n",
       " (5, -0.6713008880615234)]"
      ]
     },
     "execution_count": 302,
     "metadata": {},
     "output_type": "execute_result"
    }
   ],
   "source": [
    "semantic_query = 'pessimo'\n",
    "\n",
    "inferred_vector = model.infer_vector(semantic_query.split(' '))\n",
    "model.dv.most_similar([inferred_vector], topn=len(model.dv))"
   ]
  },
  {
   "cell_type": "markdown",
   "metadata": {},
   "source": [
    "Salvando modelo Doc2Vec"
   ]
  },
  {
   "cell_type": "code",
   "execution_count": 303,
   "metadata": {},
   "outputs": [
    {
     "name": "stderr",
     "output_type": "stream",
     "text": [
      "2024-09-22 15:02:06,088 : INFO : Doc2Vec lifecycle event {'fname_or_handle': '../model/doc2vec_olist_reviews_model', 'separately': 'None', 'sep_limit': 10485760, 'ignore': frozenset(), 'datetime': '2024-09-22T15:02:06.088911', 'gensim': '4.3.3', 'python': '3.9.19 (main, May  6 2024, 20:12:36) [MSC v.1916 64 bit (AMD64)]', 'platform': 'Windows-10-10.0.22631-SP0', 'event': 'saving'}\n",
      "2024-09-22 15:02:06,089 : INFO : storing np array 'syn1neg' to ../model/doc2vec_olist_reviews_model.syn1neg.npy\n",
      "2024-09-22 15:02:06,206 : INFO : not storing attribute cum_table\n",
      "2024-09-22 15:02:06,213 : INFO : saved ../model/doc2vec_olist_reviews_model\n"
     ]
    }
   ],
   "source": [
    "model.save('../model/doc2vec_olist_reviews_model')"
   ]
  },
  {
   "cell_type": "markdown",
   "metadata": {},
   "source": [
    "Gerando dataset com features"
   ]
  },
  {
   "cell_type": "code",
   "execution_count": 305,
   "metadata": {},
   "outputs": [
    {
     "data": {
      "text/html": [
       "<div>\n",
       "<style scoped>\n",
       "    .dataframe tbody tr th:only-of-type {\n",
       "        vertical-align: middle;\n",
       "    }\n",
       "\n",
       "    .dataframe tbody tr th {\n",
       "        vertical-align: top;\n",
       "    }\n",
       "\n",
       "    .dataframe thead th {\n",
       "        text-align: right;\n",
       "    }\n",
       "</style>\n",
       "<table border=\"1\" class=\"dataframe\">\n",
       "  <thead>\n",
       "    <tr style=\"text-align: right;\">\n",
       "      <th></th>\n",
       "      <th>document_embeddings</th>\n",
       "      <th>review_score</th>\n",
       "    </tr>\n",
       "    <tr>\n",
       "      <th>review_id</th>\n",
       "      <th></th>\n",
       "      <th></th>\n",
       "    </tr>\n",
       "  </thead>\n",
       "  <tbody>\n",
       "    <tr>\n",
       "      <th>93fd9c6fa65efb09369e376a50671957</th>\n",
       "      <td>[-0.014303607, 0.0460826, 0.06431428, -0.04204...</td>\n",
       "      <td>1</td>\n",
       "    </tr>\n",
       "    <tr>\n",
       "      <th>c495c0857dbe5f29c0baf66303b76c70</th>\n",
       "      <td>[0.026620146, -0.052907914, 0.012574526, -0.00...</td>\n",
       "      <td>5</td>\n",
       "    </tr>\n",
       "    <tr>\n",
       "      <th>1505b3f70ffd4ca313ab2a11f5122a64</th>\n",
       "      <td>[-0.007346918, 0.01763874, -0.0022261313, 0.00...</td>\n",
       "      <td>1</td>\n",
       "    </tr>\n",
       "    <tr>\n",
       "      <th>78506167e7bd88b9872369f1f08cfbbf</th>\n",
       "      <td>[0.0008607363, -0.0020089224, -0.0038993454, 0...</td>\n",
       "      <td>4</td>\n",
       "    </tr>\n",
       "    <tr>\n",
       "      <th>39fd531151e50b3921788e6f4f5998a2</th>\n",
       "      <td>[0.00022667034, -0.00058941205, -0.0017346638,...</td>\n",
       "      <td>4</td>\n",
       "    </tr>\n",
       "    <tr>\n",
       "      <th>...</th>\n",
       "      <td>...</td>\n",
       "      <td>...</td>\n",
       "    </tr>\n",
       "    <tr>\n",
       "      <th>d6c83df262048aecd3ea81a870947ff5</th>\n",
       "      <td>[-0.000409146, -0.005511231, 0.0038278988, -0....</td>\n",
       "      <td>3</td>\n",
       "    </tr>\n",
       "    <tr>\n",
       "      <th>f3eb1df9849ff68f0ab37e810e243f49</th>\n",
       "      <td>[0.00025570183, -0.0008346692, -0.00032678223,...</td>\n",
       "      <td>5</td>\n",
       "    </tr>\n",
       "    <tr>\n",
       "      <th>bb60be11b24531adc0b311991c34b4f6</th>\n",
       "      <td>[0.0029502513, 0.026504697, 0.09811896, -0.015...</td>\n",
       "      <td>1</td>\n",
       "    </tr>\n",
       "    <tr>\n",
       "      <th>fc68f150ba899eceb6714f05b57cf752</th>\n",
       "      <td>[-0.0023710367, 0.0029868702, 0.002054534, 0.0...</td>\n",
       "      <td>1</td>\n",
       "    </tr>\n",
       "    <tr>\n",
       "      <th>9912b4aced1e39fb06471abd3a729f6d</th>\n",
       "      <td>[0.0012619345, -0.0035448787, -0.0052388795, 0...</td>\n",
       "      <td>5</td>\n",
       "    </tr>\n",
       "  </tbody>\n",
       "</table>\n",
       "<p>18721 rows × 2 columns</p>\n",
       "</div>"
      ],
      "text/plain": [
       "                                                                document_embeddings  \\\n",
       "review_id                                                                             \n",
       "93fd9c6fa65efb09369e376a50671957  [-0.014303607, 0.0460826, 0.06431428, -0.04204...   \n",
       "c495c0857dbe5f29c0baf66303b76c70  [0.026620146, -0.052907914, 0.012574526, -0.00...   \n",
       "1505b3f70ffd4ca313ab2a11f5122a64  [-0.007346918, 0.01763874, -0.0022261313, 0.00...   \n",
       "78506167e7bd88b9872369f1f08cfbbf  [0.0008607363, -0.0020089224, -0.0038993454, 0...   \n",
       "39fd531151e50b3921788e6f4f5998a2  [0.00022667034, -0.00058941205, -0.0017346638,...   \n",
       "...                                                                             ...   \n",
       "d6c83df262048aecd3ea81a870947ff5  [-0.000409146, -0.005511231, 0.0038278988, -0....   \n",
       "f3eb1df9849ff68f0ab37e810e243f49  [0.00025570183, -0.0008346692, -0.00032678223,...   \n",
       "bb60be11b24531adc0b311991c34b4f6  [0.0029502513, 0.026504697, 0.09811896, -0.015...   \n",
       "fc68f150ba899eceb6714f05b57cf752  [-0.0023710367, 0.0029868702, 0.002054534, 0.0...   \n",
       "9912b4aced1e39fb06471abd3a729f6d  [0.0012619345, -0.0035448787, -0.0052388795, 0...   \n",
       "\n",
       "                                  review_score  \n",
       "review_id                                       \n",
       "93fd9c6fa65efb09369e376a50671957             1  \n",
       "c495c0857dbe5f29c0baf66303b76c70             5  \n",
       "1505b3f70ffd4ca313ab2a11f5122a64             1  \n",
       "78506167e7bd88b9872369f1f08cfbbf             4  \n",
       "39fd531151e50b3921788e6f4f5998a2             4  \n",
       "...                                        ...  \n",
       "d6c83df262048aecd3ea81a870947ff5             3  \n",
       "f3eb1df9849ff68f0ab37e810e243f49             5  \n",
       "bb60be11b24531adc0b311991c34b4f6             1  \n",
       "fc68f150ba899eceb6714f05b57cf752             1  \n",
       "9912b4aced1e39fb06471abd3a729f6d             5  \n",
       "\n",
       "[18721 rows x 2 columns]"
      ]
     },
     "execution_count": 305,
     "metadata": {},
     "output_type": "execute_result"
    }
   ],
   "source": [
    "X_train.loc[:, ['document_embeddings', 'review_score']]"
   ]
  },
  {
   "cell_type": "code",
   "execution_count": 307,
   "metadata": {},
   "outputs": [],
   "source": [
    "frzd_olist_reviews = pd.concat([\n",
    "    X_train.loc[:, ['document_embeddings', 'review_score']],\n",
    "    X_test.loc[:, ['document_embeddings', 'review_score']],\n",
    "])"
   ]
  },
  {
   "cell_type": "code",
   "execution_count": 311,
   "metadata": {},
   "outputs": [],
   "source": [
    "features_dataset = pd.DataFrame(\n",
    "    frzd_olist_reviews['document_embeddings'].to_list(),\n",
    "    index=frzd_olist_reviews.index\n",
    ")\n",
    "\n",
    "features_dataset['review_score'] = frzd_olist_reviews['review_score']"
   ]
  },
  {
   "cell_type": "code",
   "execution_count": 313,
   "metadata": {},
   "outputs": [
    {
     "data": {
      "text/html": [
       "<div>\n",
       "<style scoped>\n",
       "    .dataframe tbody tr th:only-of-type {\n",
       "        vertical-align: middle;\n",
       "    }\n",
       "\n",
       "    .dataframe tbody tr th {\n",
       "        vertical-align: top;\n",
       "    }\n",
       "\n",
       "    .dataframe thead th {\n",
       "        text-align: right;\n",
       "    }\n",
       "</style>\n",
       "<table border=\"1\" class=\"dataframe\">\n",
       "  <thead>\n",
       "    <tr style=\"text-align: right;\">\n",
       "      <th></th>\n",
       "      <th>0</th>\n",
       "      <th>1</th>\n",
       "      <th>2</th>\n",
       "      <th>3</th>\n",
       "      <th>4</th>\n",
       "      <th>5</th>\n",
       "      <th>6</th>\n",
       "      <th>7</th>\n",
       "      <th>8</th>\n",
       "      <th>9</th>\n",
       "      <th>...</th>\n",
       "      <th>391</th>\n",
       "      <th>392</th>\n",
       "      <th>393</th>\n",
       "      <th>394</th>\n",
       "      <th>395</th>\n",
       "      <th>396</th>\n",
       "      <th>397</th>\n",
       "      <th>398</th>\n",
       "      <th>399</th>\n",
       "      <th>review_score</th>\n",
       "    </tr>\n",
       "    <tr>\n",
       "      <th>review_id</th>\n",
       "      <th></th>\n",
       "      <th></th>\n",
       "      <th></th>\n",
       "      <th></th>\n",
       "      <th></th>\n",
       "      <th></th>\n",
       "      <th></th>\n",
       "      <th></th>\n",
       "      <th></th>\n",
       "      <th></th>\n",
       "      <th></th>\n",
       "      <th></th>\n",
       "      <th></th>\n",
       "      <th></th>\n",
       "      <th></th>\n",
       "      <th></th>\n",
       "      <th></th>\n",
       "      <th></th>\n",
       "      <th></th>\n",
       "      <th></th>\n",
       "      <th></th>\n",
       "    </tr>\n",
       "  </thead>\n",
       "  <tbody>\n",
       "    <tr>\n",
       "      <th>93fd9c6fa65efb09369e376a50671957</th>\n",
       "      <td>-0.014304</td>\n",
       "      <td>0.046083</td>\n",
       "      <td>0.064314</td>\n",
       "      <td>-0.042043</td>\n",
       "      <td>0.078966</td>\n",
       "      <td>0.103096</td>\n",
       "      <td>-0.074035</td>\n",
       "      <td>0.008829</td>\n",
       "      <td>0.092525</td>\n",
       "      <td>0.052451</td>\n",
       "      <td>...</td>\n",
       "      <td>-0.050971</td>\n",
       "      <td>0.060181</td>\n",
       "      <td>-0.059561</td>\n",
       "      <td>0.010675</td>\n",
       "      <td>-0.001023</td>\n",
       "      <td>-0.074058</td>\n",
       "      <td>0.092981</td>\n",
       "      <td>-0.013092</td>\n",
       "      <td>-0.127212</td>\n",
       "      <td>1</td>\n",
       "    </tr>\n",
       "    <tr>\n",
       "      <th>c495c0857dbe5f29c0baf66303b76c70</th>\n",
       "      <td>0.026620</td>\n",
       "      <td>-0.052908</td>\n",
       "      <td>0.012575</td>\n",
       "      <td>-0.008329</td>\n",
       "      <td>0.008591</td>\n",
       "      <td>-0.040909</td>\n",
       "      <td>0.061809</td>\n",
       "      <td>0.047803</td>\n",
       "      <td>-0.013991</td>\n",
       "      <td>-0.039676</td>\n",
       "      <td>...</td>\n",
       "      <td>0.001048</td>\n",
       "      <td>-0.013073</td>\n",
       "      <td>0.040552</td>\n",
       "      <td>0.053647</td>\n",
       "      <td>-0.019549</td>\n",
       "      <td>-0.023987</td>\n",
       "      <td>-0.098670</td>\n",
       "      <td>0.005631</td>\n",
       "      <td>0.114044</td>\n",
       "      <td>5</td>\n",
       "    </tr>\n",
       "    <tr>\n",
       "      <th>1505b3f70ffd4ca313ab2a11f5122a64</th>\n",
       "      <td>-0.007347</td>\n",
       "      <td>0.017639</td>\n",
       "      <td>-0.002226</td>\n",
       "      <td>0.000294</td>\n",
       "      <td>0.009467</td>\n",
       "      <td>0.040869</td>\n",
       "      <td>-0.037483</td>\n",
       "      <td>-0.020645</td>\n",
       "      <td>0.010395</td>\n",
       "      <td>0.022611</td>\n",
       "      <td>...</td>\n",
       "      <td>-0.025128</td>\n",
       "      <td>0.027613</td>\n",
       "      <td>-0.021887</td>\n",
       "      <td>-0.024825</td>\n",
       "      <td>0.007665</td>\n",
       "      <td>-0.005868</td>\n",
       "      <td>0.053988</td>\n",
       "      <td>-0.008634</td>\n",
       "      <td>-0.048408</td>\n",
       "      <td>1</td>\n",
       "    </tr>\n",
       "    <tr>\n",
       "      <th>78506167e7bd88b9872369f1f08cfbbf</th>\n",
       "      <td>0.000861</td>\n",
       "      <td>-0.002009</td>\n",
       "      <td>-0.003899</td>\n",
       "      <td>0.001644</td>\n",
       "      <td>-0.002695</td>\n",
       "      <td>-0.001742</td>\n",
       "      <td>0.000840</td>\n",
       "      <td>-0.001546</td>\n",
       "      <td>-0.003324</td>\n",
       "      <td>-0.002399</td>\n",
       "      <td>...</td>\n",
       "      <td>0.001652</td>\n",
       "      <td>-0.001388</td>\n",
       "      <td>0.001979</td>\n",
       "      <td>-0.002136</td>\n",
       "      <td>0.001121</td>\n",
       "      <td>0.004049</td>\n",
       "      <td>-0.000225</td>\n",
       "      <td>0.000636</td>\n",
       "      <td>0.004330</td>\n",
       "      <td>4</td>\n",
       "    </tr>\n",
       "    <tr>\n",
       "      <th>39fd531151e50b3921788e6f4f5998a2</th>\n",
       "      <td>0.000227</td>\n",
       "      <td>-0.000589</td>\n",
       "      <td>-0.001735</td>\n",
       "      <td>0.002609</td>\n",
       "      <td>-0.001102</td>\n",
       "      <td>-0.002125</td>\n",
       "      <td>-0.000116</td>\n",
       "      <td>-0.002329</td>\n",
       "      <td>-0.000847</td>\n",
       "      <td>0.000684</td>\n",
       "      <td>...</td>\n",
       "      <td>-0.001178</td>\n",
       "      <td>-0.001532</td>\n",
       "      <td>0.000821</td>\n",
       "      <td>-0.001306</td>\n",
       "      <td>-0.000218</td>\n",
       "      <td>0.001057</td>\n",
       "      <td>0.000293</td>\n",
       "      <td>-0.000349</td>\n",
       "      <td>0.003135</td>\n",
       "      <td>4</td>\n",
       "    </tr>\n",
       "  </tbody>\n",
       "</table>\n",
       "<p>5 rows × 401 columns</p>\n",
       "</div>"
      ],
      "text/plain": [
       "                                         0         1         2         3  \\\n",
       "review_id                                                                  \n",
       "93fd9c6fa65efb09369e376a50671957 -0.014304  0.046083  0.064314 -0.042043   \n",
       "c495c0857dbe5f29c0baf66303b76c70  0.026620 -0.052908  0.012575 -0.008329   \n",
       "1505b3f70ffd4ca313ab2a11f5122a64 -0.007347  0.017639 -0.002226  0.000294   \n",
       "78506167e7bd88b9872369f1f08cfbbf  0.000861 -0.002009 -0.003899  0.001644   \n",
       "39fd531151e50b3921788e6f4f5998a2  0.000227 -0.000589 -0.001735  0.002609   \n",
       "\n",
       "                                         4         5         6         7  \\\n",
       "review_id                                                                  \n",
       "93fd9c6fa65efb09369e376a50671957  0.078966  0.103096 -0.074035  0.008829   \n",
       "c495c0857dbe5f29c0baf66303b76c70  0.008591 -0.040909  0.061809  0.047803   \n",
       "1505b3f70ffd4ca313ab2a11f5122a64  0.009467  0.040869 -0.037483 -0.020645   \n",
       "78506167e7bd88b9872369f1f08cfbbf -0.002695 -0.001742  0.000840 -0.001546   \n",
       "39fd531151e50b3921788e6f4f5998a2 -0.001102 -0.002125 -0.000116 -0.002329   \n",
       "\n",
       "                                         8         9  ...       391       392  \\\n",
       "review_id                                             ...                       \n",
       "93fd9c6fa65efb09369e376a50671957  0.092525  0.052451  ... -0.050971  0.060181   \n",
       "c495c0857dbe5f29c0baf66303b76c70 -0.013991 -0.039676  ...  0.001048 -0.013073   \n",
       "1505b3f70ffd4ca313ab2a11f5122a64  0.010395  0.022611  ... -0.025128  0.027613   \n",
       "78506167e7bd88b9872369f1f08cfbbf -0.003324 -0.002399  ...  0.001652 -0.001388   \n",
       "39fd531151e50b3921788e6f4f5998a2 -0.000847  0.000684  ... -0.001178 -0.001532   \n",
       "\n",
       "                                       393       394       395       396  \\\n",
       "review_id                                                                  \n",
       "93fd9c6fa65efb09369e376a50671957 -0.059561  0.010675 -0.001023 -0.074058   \n",
       "c495c0857dbe5f29c0baf66303b76c70  0.040552  0.053647 -0.019549 -0.023987   \n",
       "1505b3f70ffd4ca313ab2a11f5122a64 -0.021887 -0.024825  0.007665 -0.005868   \n",
       "78506167e7bd88b9872369f1f08cfbbf  0.001979 -0.002136  0.001121  0.004049   \n",
       "39fd531151e50b3921788e6f4f5998a2  0.000821 -0.001306 -0.000218  0.001057   \n",
       "\n",
       "                                       397       398       399  review_score  \n",
       "review_id                                                                     \n",
       "93fd9c6fa65efb09369e376a50671957  0.092981 -0.013092 -0.127212             1  \n",
       "c495c0857dbe5f29c0baf66303b76c70 -0.098670  0.005631  0.114044             5  \n",
       "1505b3f70ffd4ca313ab2a11f5122a64  0.053988 -0.008634 -0.048408             1  \n",
       "78506167e7bd88b9872369f1f08cfbbf -0.000225  0.000636  0.004330             4  \n",
       "39fd531151e50b3921788e6f4f5998a2  0.000293 -0.000349  0.003135             4  \n",
       "\n",
       "[5 rows x 401 columns]"
      ]
     },
     "execution_count": 313,
     "metadata": {},
     "output_type": "execute_result"
    }
   ],
   "source": [
    "features_dataset.head()"
   ]
  },
  {
   "cell_type": "markdown",
   "metadata": {},
   "source": [
    "Salvando dataset com features na camada de delivery"
   ]
  },
  {
   "cell_type": "code",
   "execution_count": 317,
   "metadata": {},
   "outputs": [
    {
     "name": "stderr",
     "output_type": "stream",
     "text": [
      "c:\\ProgramData\\anaconda3\\envs\\nlp\\lib\\site-packages\\pandas\\io\\parquet.py:190: UserWarning: The DataFrame has column names of mixed type. They will be converted to strings and not roundtrip correctly.\n",
      "  table = self.api.Table.from_pandas(df, **from_pandas_kwargs)\n"
     ]
    }
   ],
   "source": [
    "features_dataset.to_parquet(\n",
    "    path='../dataset/featured/frzd_olist_document_embeddings.parquet.snappy',\n",
    "    engine='pyarrow',\n",
    "    compression='snappy'\n",
    ")"
   ]
  },
  {
   "cell_type": "code",
   "execution_count": null,
   "metadata": {},
   "outputs": [],
   "source": []
  }
 ],
 "metadata": {
  "kernelspec": {
   "display_name": "eEDB-002-2024-3",
   "language": "python",
   "name": "python3"
  },
  "language_info": {
   "codemirror_mode": {
    "name": "ipython",
    "version": 3
   },
   "file_extension": ".py",
   "mimetype": "text/x-python",
   "name": "python",
   "nbconvert_exporter": "python",
   "pygments_lexer": "ipython3",
   "version": "3.9.19"
  }
 },
 "nbformat": 4,
 "nbformat_minor": 2
}
